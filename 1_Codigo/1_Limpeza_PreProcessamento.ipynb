{
 "cells": [
  {
   "cell_type": "markdown",
   "metadata": {
    "id": "27a39e2c"
   },
   "source": [
    "# Introdução\n",
    "\n",
    "Os dados se referem a indicadores com diabetes, estão disponíveis em:https://www.kaggle.com/alexteboul/diabetes-health-indicators-dataset\n",
    "\n",
    "O The Behavioral Risk Factor Surveillance System (BRFSS) é um questionário aplicado por telefone coletado anualmente. Estão disponíveis três arquivos:\n",
    "\n",
    "\n",
    "- diabetes_012_health_indicators_BRFSS2015.csv é um dataset limpo com 253.680 respostas. A variável dependente (alvo) é Diabetes_012, que possui três classes: 0 para NÃO diabéticos ou apenas durante a gestação, 1 para pré diabetes, e 2 para diabetes. A base de dados é desbalanceada e possui 21 features no total.\n",
    "\n",
    "- diabetes_binary_5050split_health_indicators_BRFSS2015.csv é outro dataset li,po com 70.692 respostas. É um dataset balanceado com 50% respondentes SEM diabetes OU com diabetes. A variável dependente é  Diabetes_binary com dois valores: 0 is for no diabetes, and 1 is for prediabetes or diabetes.\n",
    "\n",
    "- diabetes_binary_health_indicators_BRFSS2015.csv é outro dataset com 253.680 respostas. A variável dependente é  Diabetes_binary com 2 classes. 0 is for no diabetes, and 1 is for prediabetes or diabetes. O dataset possui 21 features e é desbalanceado.\n",
    "\n",
    "As sugestões de análise do kaggle são:\n",
    "O questionário prevê diabetes?\n",
    "Quais fatores de risco prevêem risco de diabetes?\n",
    "Podemos usar um pequeno conjunto de fatores de risco pra prever diabetes?\n",
    "Podemos criar um questionário menor para prever risco de diabetes?"
   ]
  },
  {
   "cell_type": "markdown",
   "metadata": {
    "id": "6d00531b"
   },
   "source": [
    "# Importar bibliotecas"
   ]
  },
  {
   "cell_type": "code",
   "execution_count": 7,
   "metadata": {
    "executionInfo": {
     "elapsed": 758,
     "status": "ok",
     "timestamp": 1648251256889,
     "user": {
      "displayName": "Eduardo Moura",
      "photoUrl": "https://lh3.googleusercontent.com/a-/AOh14GjbRENwmFbXh90kjNincbnD6Wle8bbYiPn8ZTE2mQ=s64",
      "userId": "17583025802959502448"
     },
     "user_tz": 180
    },
    "id": "d909ece5"
   },
   "outputs": [],
   "source": [
    "import pandas as pd\n",
    "import os"
   ]
  },
  {
   "cell_type": "code",
   "execution_count": 8,
   "metadata": {},
   "outputs": [],
   "source": [
    "pRaiz = os.path.abspath(r\"..\\\\\")  "
   ]
  },
  {
   "cell_type": "code",
   "execution_count": 9,
   "metadata": {
    "colab": {
     "base_uri": "https://localhost:8080/",
     "height": 300
    },
    "executionInfo": {
     "elapsed": 1771,
     "status": "ok",
     "timestamp": 1648251258649,
     "user": {
      "displayName": "Eduardo Moura",
      "photoUrl": "https://lh3.googleusercontent.com/a-/AOh14GjbRENwmFbXh90kjNincbnD6Wle8bbYiPn8ZTE2mQ=s64",
      "userId": "17583025802959502448"
     },
     "user_tz": 180
    },
    "id": "7095799b",
    "outputId": "4cc70039-5b3c-4f2e-ba06-890e1d6ceb20"
   },
   "outputs": [
    {
     "data": {
      "text/html": [
       "<div>\n",
       "<style scoped>\n",
       "    .dataframe tbody tr th:only-of-type {\n",
       "        vertical-align: middle;\n",
       "    }\n",
       "\n",
       "    .dataframe tbody tr th {\n",
       "        vertical-align: top;\n",
       "    }\n",
       "\n",
       "    .dataframe thead th {\n",
       "        text-align: right;\n",
       "    }\n",
       "</style>\n",
       "<table border=\"1\" class=\"dataframe\">\n",
       "  <thead>\n",
       "    <tr style=\"text-align: right;\">\n",
       "      <th></th>\n",
       "      <th>Diabetes_012</th>\n",
       "      <th>HighBP</th>\n",
       "      <th>HighChol</th>\n",
       "      <th>CholCheck</th>\n",
       "      <th>BMI</th>\n",
       "      <th>Smoker</th>\n",
       "      <th>Stroke</th>\n",
       "      <th>HeartDiseaseorAttack</th>\n",
       "      <th>PhysActivity</th>\n",
       "      <th>Fruits</th>\n",
       "      <th>...</th>\n",
       "      <th>AnyHealthcare</th>\n",
       "      <th>NoDocbcCost</th>\n",
       "      <th>GenHlth</th>\n",
       "      <th>MentHlth</th>\n",
       "      <th>PhysHlth</th>\n",
       "      <th>DiffWalk</th>\n",
       "      <th>Sex</th>\n",
       "      <th>Age</th>\n",
       "      <th>Education</th>\n",
       "      <th>Income</th>\n",
       "    </tr>\n",
       "  </thead>\n",
       "  <tbody>\n",
       "    <tr>\n",
       "      <th>0</th>\n",
       "      <td>0.0</td>\n",
       "      <td>1.0</td>\n",
       "      <td>1.0</td>\n",
       "      <td>1.0</td>\n",
       "      <td>40.0</td>\n",
       "      <td>1.0</td>\n",
       "      <td>0.0</td>\n",
       "      <td>0.0</td>\n",
       "      <td>0.0</td>\n",
       "      <td>0.0</td>\n",
       "      <td>...</td>\n",
       "      <td>1.0</td>\n",
       "      <td>0.0</td>\n",
       "      <td>5.0</td>\n",
       "      <td>18.0</td>\n",
       "      <td>15.0</td>\n",
       "      <td>1.0</td>\n",
       "      <td>0.0</td>\n",
       "      <td>9.0</td>\n",
       "      <td>4.0</td>\n",
       "      <td>3.0</td>\n",
       "    </tr>\n",
       "    <tr>\n",
       "      <th>1</th>\n",
       "      <td>0.0</td>\n",
       "      <td>0.0</td>\n",
       "      <td>0.0</td>\n",
       "      <td>0.0</td>\n",
       "      <td>25.0</td>\n",
       "      <td>1.0</td>\n",
       "      <td>0.0</td>\n",
       "      <td>0.0</td>\n",
       "      <td>1.0</td>\n",
       "      <td>0.0</td>\n",
       "      <td>...</td>\n",
       "      <td>0.0</td>\n",
       "      <td>1.0</td>\n",
       "      <td>3.0</td>\n",
       "      <td>0.0</td>\n",
       "      <td>0.0</td>\n",
       "      <td>0.0</td>\n",
       "      <td>0.0</td>\n",
       "      <td>7.0</td>\n",
       "      <td>6.0</td>\n",
       "      <td>1.0</td>\n",
       "    </tr>\n",
       "    <tr>\n",
       "      <th>2</th>\n",
       "      <td>0.0</td>\n",
       "      <td>1.0</td>\n",
       "      <td>1.0</td>\n",
       "      <td>1.0</td>\n",
       "      <td>28.0</td>\n",
       "      <td>0.0</td>\n",
       "      <td>0.0</td>\n",
       "      <td>0.0</td>\n",
       "      <td>0.0</td>\n",
       "      <td>1.0</td>\n",
       "      <td>...</td>\n",
       "      <td>1.0</td>\n",
       "      <td>1.0</td>\n",
       "      <td>5.0</td>\n",
       "      <td>30.0</td>\n",
       "      <td>30.0</td>\n",
       "      <td>1.0</td>\n",
       "      <td>0.0</td>\n",
       "      <td>9.0</td>\n",
       "      <td>4.0</td>\n",
       "      <td>8.0</td>\n",
       "    </tr>\n",
       "    <tr>\n",
       "      <th>3</th>\n",
       "      <td>0.0</td>\n",
       "      <td>1.0</td>\n",
       "      <td>0.0</td>\n",
       "      <td>1.0</td>\n",
       "      <td>27.0</td>\n",
       "      <td>0.0</td>\n",
       "      <td>0.0</td>\n",
       "      <td>0.0</td>\n",
       "      <td>1.0</td>\n",
       "      <td>1.0</td>\n",
       "      <td>...</td>\n",
       "      <td>1.0</td>\n",
       "      <td>0.0</td>\n",
       "      <td>2.0</td>\n",
       "      <td>0.0</td>\n",
       "      <td>0.0</td>\n",
       "      <td>0.0</td>\n",
       "      <td>0.0</td>\n",
       "      <td>11.0</td>\n",
       "      <td>3.0</td>\n",
       "      <td>6.0</td>\n",
       "    </tr>\n",
       "    <tr>\n",
       "      <th>4</th>\n",
       "      <td>0.0</td>\n",
       "      <td>1.0</td>\n",
       "      <td>1.0</td>\n",
       "      <td>1.0</td>\n",
       "      <td>24.0</td>\n",
       "      <td>0.0</td>\n",
       "      <td>0.0</td>\n",
       "      <td>0.0</td>\n",
       "      <td>1.0</td>\n",
       "      <td>1.0</td>\n",
       "      <td>...</td>\n",
       "      <td>1.0</td>\n",
       "      <td>0.0</td>\n",
       "      <td>2.0</td>\n",
       "      <td>3.0</td>\n",
       "      <td>0.0</td>\n",
       "      <td>0.0</td>\n",
       "      <td>0.0</td>\n",
       "      <td>11.0</td>\n",
       "      <td>5.0</td>\n",
       "      <td>4.0</td>\n",
       "    </tr>\n",
       "  </tbody>\n",
       "</table>\n",
       "<p>5 rows × 22 columns</p>\n",
       "</div>"
      ],
      "text/plain": [
       "   Diabetes_012  HighBP  HighChol  CholCheck   BMI  Smoker  Stroke  \\\n",
       "0           0.0     1.0       1.0        1.0  40.0     1.0     0.0   \n",
       "1           0.0     0.0       0.0        0.0  25.0     1.0     0.0   \n",
       "2           0.0     1.0       1.0        1.0  28.0     0.0     0.0   \n",
       "3           0.0     1.0       0.0        1.0  27.0     0.0     0.0   \n",
       "4           0.0     1.0       1.0        1.0  24.0     0.0     0.0   \n",
       "\n",
       "   HeartDiseaseorAttack  PhysActivity  Fruits  ...  AnyHealthcare  \\\n",
       "0                   0.0           0.0     0.0  ...            1.0   \n",
       "1                   0.0           1.0     0.0  ...            0.0   \n",
       "2                   0.0           0.0     1.0  ...            1.0   \n",
       "3                   0.0           1.0     1.0  ...            1.0   \n",
       "4                   0.0           1.0     1.0  ...            1.0   \n",
       "\n",
       "   NoDocbcCost  GenHlth  MentHlth  PhysHlth  DiffWalk  Sex   Age  Education  \\\n",
       "0          0.0      5.0      18.0      15.0       1.0  0.0   9.0        4.0   \n",
       "1          1.0      3.0       0.0       0.0       0.0  0.0   7.0        6.0   \n",
       "2          1.0      5.0      30.0      30.0       1.0  0.0   9.0        4.0   \n",
       "3          0.0      2.0       0.0       0.0       0.0  0.0  11.0        3.0   \n",
       "4          0.0      2.0       3.0       0.0       0.0  0.0  11.0        5.0   \n",
       "\n",
       "   Income  \n",
       "0     3.0  \n",
       "1     1.0  \n",
       "2     8.0  \n",
       "3     6.0  \n",
       "4     4.0  \n",
       "\n",
       "[5 rows x 22 columns]"
      ]
     },
     "execution_count": 9,
     "metadata": {},
     "output_type": "execute_result"
    }
   ],
   "source": [
    "my_df = pd.read_csv(pRaiz + '/2_Dados/diabetes_012_health_indicators_BRFSS2015.csv')\n",
    "my_df.head(5)"
   ]
  },
  {
   "cell_type": "code",
   "execution_count": 10,
   "metadata": {
    "colab": {
     "base_uri": "https://localhost:8080/"
    },
    "executionInfo": {
     "elapsed": 9,
     "status": "ok",
     "timestamp": 1648251258650,
     "user": {
      "displayName": "Eduardo Moura",
      "photoUrl": "https://lh3.googleusercontent.com/a-/AOh14GjbRENwmFbXh90kjNincbnD6Wle8bbYiPn8ZTE2mQ=s64",
      "userId": "17583025802959502448"
     },
     "user_tz": 180
    },
    "id": "7cbc5508",
    "outputId": "345748d5-f77f-4455-fcda-1ff507570842"
   },
   "outputs": [
    {
     "data": {
      "text/plain": [
       "(253680, 22)"
      ]
     },
     "execution_count": 10,
     "metadata": {},
     "output_type": "execute_result"
    }
   ],
   "source": [
    "#tamanho\n",
    "my_df.shape"
   ]
  },
  {
   "cell_type": "code",
   "execution_count": 11,
   "metadata": {
    "colab": {
     "base_uri": "https://localhost:8080/"
    },
    "executionInfo": {
     "elapsed": 582,
     "status": "ok",
     "timestamp": 1648251259228,
     "user": {
      "displayName": "Eduardo Moura",
      "photoUrl": "https://lh3.googleusercontent.com/a-/AOh14GjbRENwmFbXh90kjNincbnD6Wle8bbYiPn8ZTE2mQ=s64",
      "userId": "17583025802959502448"
     },
     "user_tz": 180
    },
    "id": "2e6f3247",
    "outputId": "e5a222b9-e7af-4773-f9f8-641b20ac0169"
   },
   "outputs": [
    {
     "name": "stdout",
     "output_type": "stream",
     "text": [
      "<class 'pandas.core.frame.DataFrame'>\n",
      "RangeIndex: 253680 entries, 0 to 253679\n",
      "Data columns (total 22 columns):\n",
      " #   Column                Non-Null Count   Dtype  \n",
      "---  ------                --------------   -----  \n",
      " 0   Diabetes_012          253680 non-null  float64\n",
      " 1   HighBP                253680 non-null  float64\n",
      " 2   HighChol              253680 non-null  float64\n",
      " 3   CholCheck             253680 non-null  float64\n",
      " 4   BMI                   253680 non-null  float64\n",
      " 5   Smoker                253680 non-null  float64\n",
      " 6   Stroke                253680 non-null  float64\n",
      " 7   HeartDiseaseorAttack  253680 non-null  float64\n",
      " 8   PhysActivity          253680 non-null  float64\n",
      " 9   Fruits                253680 non-null  float64\n",
      " 10  Veggies               253680 non-null  float64\n",
      " 11  HvyAlcoholConsump     253680 non-null  float64\n",
      " 12  AnyHealthcare         253680 non-null  float64\n",
      " 13  NoDocbcCost           253680 non-null  float64\n",
      " 14  GenHlth               253680 non-null  float64\n",
      " 15  MentHlth              253680 non-null  float64\n",
      " 16  PhysHlth              253680 non-null  float64\n",
      " 17  DiffWalk              253680 non-null  float64\n",
      " 18  Sex                   253680 non-null  float64\n",
      " 19  Age                   253680 non-null  float64\n",
      " 20  Education             253680 non-null  float64\n",
      " 21  Income                253680 non-null  float64\n",
      "dtypes: float64(22)\n",
      "memory usage: 42.6 MB\n"
     ]
    }
   ],
   "source": [
    "# todas variáveis são numéricas\n",
    "my_df.info()"
   ]
  },
  {
   "cell_type": "code",
   "execution_count": 12,
   "metadata": {
    "colab": {
     "base_uri": "https://localhost:8080/"
    },
    "executionInfo": {
     "elapsed": 25,
     "status": "ok",
     "timestamp": 1648251259229,
     "user": {
      "displayName": "Eduardo Moura",
      "photoUrl": "https://lh3.googleusercontent.com/a-/AOh14GjbRENwmFbXh90kjNincbnD6Wle8bbYiPn8ZTE2mQ=s64",
      "userId": "17583025802959502448"
     },
     "user_tz": 180
    },
    "id": "c1de2333",
    "outputId": "eb1b12f7-289f-43eb-a5c3-fd06868f78df"
   },
   "outputs": [
    {
     "data": {
      "text/plain": [
       "Index(['Diabetes_012', 'HighBP', 'HighChol', 'CholCheck', 'BMI', 'Smoker',\n",
       "       'Stroke', 'HeartDiseaseorAttack', 'PhysActivity', 'Fruits', 'Veggies',\n",
       "       'HvyAlcoholConsump', 'AnyHealthcare', 'NoDocbcCost', 'GenHlth',\n",
       "       'MentHlth', 'PhysHlth', 'DiffWalk', 'Sex', 'Age', 'Education',\n",
       "       'Income'],\n",
       "      dtype='object')"
      ]
     },
     "execution_count": 12,
     "metadata": {},
     "output_type": "execute_result"
    }
   ],
   "source": [
    "#Nome Colunas \n",
    "my_df.columns"
   ]
  },
  {
   "cell_type": "code",
   "execution_count": 13,
   "metadata": {
    "executionInfo": {
     "elapsed": 22,
     "status": "ok",
     "timestamp": 1648251259229,
     "user": {
      "displayName": "Eduardo Moura",
      "photoUrl": "https://lh3.googleusercontent.com/a-/AOh14GjbRENwmFbXh90kjNincbnD6Wle8bbYiPn8ZTE2mQ=s64",
      "userId": "17583025802959502448"
     },
     "user_tz": 180
    },
    "id": "9c519e9e"
   },
   "outputs": [],
   "source": [
    "#Renomear para nomes intuitivos\n",
    "my_df = my_df.rename(columns={'Diabetes_012':\"diabetes\", \n",
    "                     'HighBP': \"pressao_alta\", \n",
    "                     'HighChol': \"colesterol_alto\", \n",
    "                     'CholCheck':\"testou_colesterol\", \n",
    "                     'BMI': \"IMC\", \n",
    "                     'Smoker': \"fumante\",\n",
    "                     'Stroke':\"AVC\", \n",
    "                     'HeartDiseaseorAttack':\"ataque_cardiaco\", \n",
    "                     'PhysActivity':\"ativ_fisica\", \n",
    "                     'Fruits':\"consome_frutas\", \n",
    "                     'Veggies':\"consome_vegetais\",\n",
    "                     'HvyAlcoholConsump':\"consumo_alcool\", \n",
    "                     'AnyHealthcare':\"seguro_saude\", \n",
    "                     'NoDocbcCost':\"n_foi_med_custo\", \n",
    "                     'GenHlth':\"auto_aval_saude\",\n",
    "                     'MentHlth':\"saude_mental\", \n",
    "                     'PhysHlth':\"saude_fisica\", \n",
    "                     'DiffWalk':\"dif_escadas\", \n",
    "                     'Sex':\"sexo\", \n",
    "                     'Age':\"class_idade\", \n",
    "                     'Education':\"class_educ\",\n",
    "                     'Income':\"class_renda\"})"
   ]
  },
  {
   "cell_type": "code",
   "execution_count": 14,
   "metadata": {
    "colab": {
     "base_uri": "https://localhost:8080/"
    },
    "executionInfo": {
     "elapsed": 22,
     "status": "ok",
     "timestamp": 1648251259230,
     "user": {
      "displayName": "Eduardo Moura",
      "photoUrl": "https://lh3.googleusercontent.com/a-/AOh14GjbRENwmFbXh90kjNincbnD6Wle8bbYiPn8ZTE2mQ=s64",
      "userId": "17583025802959502448"
     },
     "user_tz": 180
    },
    "id": "68d9b1e6",
    "outputId": "f89256ca-c324-4547-948e-0bc75f03d5eb"
   },
   "outputs": [
    {
     "data": {
      "text/plain": [
       "Index(['diabetes', 'pressao_alta', 'colesterol_alto', 'testou_colesterol',\n",
       "       'IMC', 'fumante', 'AVC', 'ataque_cardiaco', 'ativ_fisica',\n",
       "       'consome_frutas', 'consome_vegetais', 'consumo_alcool', 'seguro_saude',\n",
       "       'n_foi_med_custo', 'auto_aval_saude', 'saude_mental', 'saude_fisica',\n",
       "       'dif_escadas', 'sexo', 'class_idade', 'class_educ', 'class_renda'],\n",
       "      dtype='object')"
      ]
     },
     "execution_count": 14,
     "metadata": {},
     "output_type": "execute_result"
    }
   ],
   "source": [
    "#Nome Colunas \n",
    "my_df.columns"
   ]
  },
  {
   "cell_type": "code",
   "execution_count": 15,
   "metadata": {
    "colab": {
     "base_uri": "https://localhost:8080/"
    },
    "executionInfo": {
     "elapsed": 21,
     "status": "ok",
     "timestamp": 1648251259231,
     "user": {
      "displayName": "Eduardo Moura",
      "photoUrl": "https://lh3.googleusercontent.com/a-/AOh14GjbRENwmFbXh90kjNincbnD6Wle8bbYiPn8ZTE2mQ=s64",
      "userId": "17583025802959502448"
     },
     "user_tz": 180
    },
    "id": "92a4ee75",
    "outputId": "55e73970-df2e-4ea0-9fcf-03c5037824ef"
   },
   "outputs": [
    {
     "name": "stdout",
     "output_type": "stream",
     "text": [
      "diabetes\n",
      "0.0    213703\n",
      "1.0      4631\n",
      "2.0     35346\n",
      "dtype: int64\n",
      "pressao_alta\n",
      "0.0    144851\n",
      "1.0    108829\n",
      "dtype: int64\n",
      "colesterol_alto\n",
      "0.0    146089\n",
      "1.0    107591\n",
      "dtype: int64\n",
      "testou_colesterol\n",
      "0.0      9470\n",
      "1.0    244210\n",
      "dtype: int64\n",
      "IMC\n",
      "12.0      6\n",
      "13.0     21\n",
      "14.0     41\n",
      "15.0    132\n",
      "16.0    348\n",
      "       ... \n",
      "91.0      1\n",
      "92.0     32\n",
      "95.0     12\n",
      "96.0      1\n",
      "98.0      7\n",
      "Length: 84, dtype: int64\n",
      "fumante\n",
      "0.0    141257\n",
      "1.0    112423\n",
      "dtype: int64\n",
      "AVC\n",
      "0.0    243388\n",
      "1.0     10292\n",
      "dtype: int64\n",
      "ataque_cardiaco\n",
      "0.0    229787\n",
      "1.0     23893\n",
      "dtype: int64\n",
      "ativ_fisica\n",
      "0.0     61760\n",
      "1.0    191920\n",
      "dtype: int64\n",
      "consome_frutas\n",
      "0.0     92782\n",
      "1.0    160898\n",
      "dtype: int64\n",
      "consome_vegetais\n",
      "0.0     47839\n",
      "1.0    205841\n",
      "dtype: int64\n",
      "consumo_alcool\n",
      "0.0    239424\n",
      "1.0     14256\n",
      "dtype: int64\n",
      "seguro_saude\n",
      "0.0     12417\n",
      "1.0    241263\n",
      "dtype: int64\n",
      "n_foi_med_custo\n",
      "0.0    232326\n",
      "1.0     21354\n",
      "dtype: int64\n",
      "auto_aval_saude\n",
      "1.0    45299\n",
      "2.0    89084\n",
      "3.0    75646\n",
      "4.0    31570\n",
      "5.0    12081\n",
      "dtype: int64\n",
      "saude_mental\n",
      "0.0     175680\n",
      "1.0       8538\n",
      "2.0      13054\n",
      "3.0       7381\n",
      "4.0       3789\n",
      "5.0       9030\n",
      "6.0        988\n",
      "7.0       3100\n",
      "8.0        639\n",
      "9.0         91\n",
      "10.0      6373\n",
      "11.0        41\n",
      "12.0       398\n",
      "13.0        41\n",
      "14.0      1167\n",
      "15.0      5505\n",
      "16.0        88\n",
      "17.0        54\n",
      "18.0        97\n",
      "19.0        16\n",
      "20.0      3364\n",
      "21.0       227\n",
      "22.0        63\n",
      "23.0        38\n",
      "24.0        33\n",
      "25.0      1188\n",
      "26.0        45\n",
      "27.0        79\n",
      "28.0       327\n",
      "29.0       158\n",
      "30.0     12088\n",
      "dtype: int64\n",
      "saude_fisica\n",
      "0.0     160052\n",
      "1.0      11388\n",
      "2.0      14764\n",
      "3.0       8495\n",
      "4.0       4542\n",
      "5.0       7622\n",
      "6.0       1330\n",
      "7.0       4538\n",
      "8.0        809\n",
      "9.0        179\n",
      "10.0      5595\n",
      "11.0        60\n",
      "12.0       578\n",
      "13.0        68\n",
      "14.0      2587\n",
      "15.0      4916\n",
      "16.0       112\n",
      "17.0        96\n",
      "18.0       152\n",
      "19.0        22\n",
      "20.0      3273\n",
      "21.0       663\n",
      "22.0        70\n",
      "23.0        56\n",
      "24.0        72\n",
      "25.0      1336\n",
      "26.0        69\n",
      "27.0        99\n",
      "28.0       522\n",
      "29.0       215\n",
      "30.0     19400\n",
      "dtype: int64\n",
      "dif_escadas\n",
      "0.0    211005\n",
      "1.0     42675\n",
      "dtype: int64\n",
      "sexo\n",
      "0.0    141974\n",
      "1.0    111706\n",
      "dtype: int64\n",
      "class_idade\n",
      "1.0      5700\n",
      "2.0      7598\n",
      "3.0     11123\n",
      "4.0     13823\n",
      "5.0     16157\n",
      "6.0     19819\n",
      "7.0     26314\n",
      "8.0     30832\n",
      "9.0     33244\n",
      "10.0    32194\n",
      "11.0    23533\n",
      "12.0    15980\n",
      "13.0    17363\n",
      "dtype: int64\n",
      "class_educ\n",
      "1.0       174\n",
      "2.0      4043\n",
      "3.0      9478\n",
      "4.0     62750\n",
      "5.0     69910\n",
      "6.0    107325\n",
      "dtype: int64\n",
      "class_renda\n",
      "1.0     9811\n",
      "2.0    11783\n",
      "3.0    15994\n",
      "4.0    20135\n",
      "5.0    25883\n",
      "6.0    36470\n",
      "7.0    43219\n",
      "8.0    90385\n",
      "dtype: int64\n"
     ]
    }
   ],
   "source": [
    "#identificar registros inúteis\n",
    "for col in my_df.columns:    \n",
    "    agrupado = my_df.groupby(col).size()\n",
    "    print(agrupado)"
   ]
  },
  {
   "cell_type": "code",
   "execution_count": 16,
   "metadata": {
    "colab": {
     "base_uri": "https://localhost:8080/"
    },
    "executionInfo": {
     "elapsed": 18,
     "status": "ok",
     "timestamp": 1648251259231,
     "user": {
      "displayName": "Eduardo Moura",
      "photoUrl": "https://lh3.googleusercontent.com/a-/AOh14GjbRENwmFbXh90kjNincbnD6Wle8bbYiPn8ZTE2mQ=s64",
      "userId": "17583025802959502448"
     },
     "user_tz": 180
    },
    "id": "b2e29d5a",
    "outputId": "7eb50f0d-d1d6-4b78-9c01-44750a7dcbe1"
   },
   "outputs": [
    {
     "data": {
      "text/plain": [
       "Series([], dtype: float64)"
      ]
     },
     "execution_count": 16,
     "metadata": {},
     "output_type": "execute_result"
    }
   ],
   "source": [
    "# não tem dados faltantes\n",
    "missing_val = [var for var in my_df.columns if my_df[var].isnull().sum()>0]\n",
    "my_df[missing_val].isnull().sum()"
   ]
  },
  {
   "cell_type": "code",
   "execution_count": 17,
   "metadata": {
    "executionInfo": {
     "elapsed": 15,
     "status": "ok",
     "timestamp": 1648251259232,
     "user": {
      "displayName": "Eduardo Moura",
      "photoUrl": "https://lh3.googleusercontent.com/a-/AOh14GjbRENwmFbXh90kjNincbnD6Wle8bbYiPn8ZTE2mQ=s64",
      "userId": "17583025802959502448"
     },
     "user_tz": 180
    },
    "id": "af129ee9"
   },
   "outputs": [],
   "source": [
    "#Transforma os atributos em inteiro\n",
    "my_df = my_df.astype(int)\n"
   ]
  },
  {
   "cell_type": "code",
   "execution_count": 18,
   "metadata": {
    "colab": {
     "base_uri": "https://localhost:8080/",
     "height": 300
    },
    "executionInfo": {
     "elapsed": 15,
     "status": "ok",
     "timestamp": 1648251259232,
     "user": {
      "displayName": "Eduardo Moura",
      "photoUrl": "https://lh3.googleusercontent.com/a-/AOh14GjbRENwmFbXh90kjNincbnD6Wle8bbYiPn8ZTE2mQ=s64",
      "userId": "17583025802959502448"
     },
     "user_tz": 180
    },
    "id": "95ae3fc1",
    "outputId": "892c7ba2-5fb2-49b5-d938-cb0a42c9b87e"
   },
   "outputs": [
    {
     "data": {
      "text/html": [
       "<div>\n",
       "<style scoped>\n",
       "    .dataframe tbody tr th:only-of-type {\n",
       "        vertical-align: middle;\n",
       "    }\n",
       "\n",
       "    .dataframe tbody tr th {\n",
       "        vertical-align: top;\n",
       "    }\n",
       "\n",
       "    .dataframe thead th {\n",
       "        text-align: right;\n",
       "    }\n",
       "</style>\n",
       "<table border=\"1\" class=\"dataframe\">\n",
       "  <thead>\n",
       "    <tr style=\"text-align: right;\">\n",
       "      <th></th>\n",
       "      <th>diabetes</th>\n",
       "      <th>pressao_alta</th>\n",
       "      <th>colesterol_alto</th>\n",
       "      <th>testou_colesterol</th>\n",
       "      <th>IMC</th>\n",
       "      <th>fumante</th>\n",
       "      <th>AVC</th>\n",
       "      <th>ataque_cardiaco</th>\n",
       "      <th>ativ_fisica</th>\n",
       "      <th>consome_frutas</th>\n",
       "      <th>...</th>\n",
       "      <th>seguro_saude</th>\n",
       "      <th>n_foi_med_custo</th>\n",
       "      <th>auto_aval_saude</th>\n",
       "      <th>saude_mental</th>\n",
       "      <th>saude_fisica</th>\n",
       "      <th>dif_escadas</th>\n",
       "      <th>sexo</th>\n",
       "      <th>class_idade</th>\n",
       "      <th>class_educ</th>\n",
       "      <th>class_renda</th>\n",
       "    </tr>\n",
       "  </thead>\n",
       "  <tbody>\n",
       "    <tr>\n",
       "      <th>0</th>\n",
       "      <td>0</td>\n",
       "      <td>1</td>\n",
       "      <td>1</td>\n",
       "      <td>1</td>\n",
       "      <td>40</td>\n",
       "      <td>1</td>\n",
       "      <td>0</td>\n",
       "      <td>0</td>\n",
       "      <td>0</td>\n",
       "      <td>0</td>\n",
       "      <td>...</td>\n",
       "      <td>1</td>\n",
       "      <td>0</td>\n",
       "      <td>5</td>\n",
       "      <td>18</td>\n",
       "      <td>15</td>\n",
       "      <td>1</td>\n",
       "      <td>0</td>\n",
       "      <td>9</td>\n",
       "      <td>4</td>\n",
       "      <td>3</td>\n",
       "    </tr>\n",
       "    <tr>\n",
       "      <th>1</th>\n",
       "      <td>0</td>\n",
       "      <td>0</td>\n",
       "      <td>0</td>\n",
       "      <td>0</td>\n",
       "      <td>25</td>\n",
       "      <td>1</td>\n",
       "      <td>0</td>\n",
       "      <td>0</td>\n",
       "      <td>1</td>\n",
       "      <td>0</td>\n",
       "      <td>...</td>\n",
       "      <td>0</td>\n",
       "      <td>1</td>\n",
       "      <td>3</td>\n",
       "      <td>0</td>\n",
       "      <td>0</td>\n",
       "      <td>0</td>\n",
       "      <td>0</td>\n",
       "      <td>7</td>\n",
       "      <td>6</td>\n",
       "      <td>1</td>\n",
       "    </tr>\n",
       "    <tr>\n",
       "      <th>2</th>\n",
       "      <td>0</td>\n",
       "      <td>1</td>\n",
       "      <td>1</td>\n",
       "      <td>1</td>\n",
       "      <td>28</td>\n",
       "      <td>0</td>\n",
       "      <td>0</td>\n",
       "      <td>0</td>\n",
       "      <td>0</td>\n",
       "      <td>1</td>\n",
       "      <td>...</td>\n",
       "      <td>1</td>\n",
       "      <td>1</td>\n",
       "      <td>5</td>\n",
       "      <td>30</td>\n",
       "      <td>30</td>\n",
       "      <td>1</td>\n",
       "      <td>0</td>\n",
       "      <td>9</td>\n",
       "      <td>4</td>\n",
       "      <td>8</td>\n",
       "    </tr>\n",
       "    <tr>\n",
       "      <th>3</th>\n",
       "      <td>0</td>\n",
       "      <td>1</td>\n",
       "      <td>0</td>\n",
       "      <td>1</td>\n",
       "      <td>27</td>\n",
       "      <td>0</td>\n",
       "      <td>0</td>\n",
       "      <td>0</td>\n",
       "      <td>1</td>\n",
       "      <td>1</td>\n",
       "      <td>...</td>\n",
       "      <td>1</td>\n",
       "      <td>0</td>\n",
       "      <td>2</td>\n",
       "      <td>0</td>\n",
       "      <td>0</td>\n",
       "      <td>0</td>\n",
       "      <td>0</td>\n",
       "      <td>11</td>\n",
       "      <td>3</td>\n",
       "      <td>6</td>\n",
       "    </tr>\n",
       "    <tr>\n",
       "      <th>4</th>\n",
       "      <td>0</td>\n",
       "      <td>1</td>\n",
       "      <td>1</td>\n",
       "      <td>1</td>\n",
       "      <td>24</td>\n",
       "      <td>0</td>\n",
       "      <td>0</td>\n",
       "      <td>0</td>\n",
       "      <td>1</td>\n",
       "      <td>1</td>\n",
       "      <td>...</td>\n",
       "      <td>1</td>\n",
       "      <td>0</td>\n",
       "      <td>2</td>\n",
       "      <td>3</td>\n",
       "      <td>0</td>\n",
       "      <td>0</td>\n",
       "      <td>0</td>\n",
       "      <td>11</td>\n",
       "      <td>5</td>\n",
       "      <td>4</td>\n",
       "    </tr>\n",
       "  </tbody>\n",
       "</table>\n",
       "<p>5 rows × 22 columns</p>\n",
       "</div>"
      ],
      "text/plain": [
       "   diabetes  pressao_alta  colesterol_alto  testou_colesterol  IMC  fumante  \\\n",
       "0         0             1                1                  1   40        1   \n",
       "1         0             0                0                  0   25        1   \n",
       "2         0             1                1                  1   28        0   \n",
       "3         0             1                0                  1   27        0   \n",
       "4         0             1                1                  1   24        0   \n",
       "\n",
       "   AVC  ataque_cardiaco  ativ_fisica  consome_frutas  ...  seguro_saude  \\\n",
       "0    0                0            0               0  ...             1   \n",
       "1    0                0            1               0  ...             0   \n",
       "2    0                0            0               1  ...             1   \n",
       "3    0                0            1               1  ...             1   \n",
       "4    0                0            1               1  ...             1   \n",
       "\n",
       "   n_foi_med_custo  auto_aval_saude  saude_mental  saude_fisica  dif_escadas  \\\n",
       "0                0                5            18            15            1   \n",
       "1                1                3             0             0            0   \n",
       "2                1                5            30            30            1   \n",
       "3                0                2             0             0            0   \n",
       "4                0                2             3             0            0   \n",
       "\n",
       "   sexo  class_idade  class_educ  class_renda  \n",
       "0     0            9           4            3  \n",
       "1     0            7           6            1  \n",
       "2     0            9           4            8  \n",
       "3     0           11           3            6  \n",
       "4     0           11           5            4  \n",
       "\n",
       "[5 rows x 22 columns]"
      ]
     },
     "execution_count": 18,
     "metadata": {},
     "output_type": "execute_result"
    }
   ],
   "source": [
    "my_df.head(5)"
   ]
  },
  {
   "cell_type": "code",
   "execution_count": 19,
   "metadata": {
    "colab": {
     "base_uri": "https://localhost:8080/"
    },
    "executionInfo": {
     "elapsed": 404,
     "status": "ok",
     "timestamp": 1648251259623,
     "user": {
      "displayName": "Eduardo Moura",
      "photoUrl": "https://lh3.googleusercontent.com/a-/AOh14GjbRENwmFbXh90kjNincbnD6Wle8bbYiPn8ZTE2mQ=s64",
      "userId": "17583025802959502448"
     },
     "user_tz": 180
    },
    "id": "a5666490",
    "outputId": "70288be3-02c6-4041-8497-503b8b48f9e0"
   },
   "outputs": [
    {
     "name": "stdout",
     "output_type": "stream",
     "text": [
      "diabetes\n",
      "0    213703\n",
      "1      4631\n",
      "2     35346\n",
      "dtype: int64\n"
     ]
    }
   ],
   "source": [
    "#valores da class diabetes em 0, 1 e 2\n",
    "agrupado = my_df.groupby(['diabetes']).size()\n",
    "print(agrupado)"
   ]
  },
  {
   "cell_type": "code",
   "execution_count": 20,
   "metadata": {
    "executionInfo": {
     "elapsed": 8,
     "status": "ok",
     "timestamp": 1648251259624,
     "user": {
      "displayName": "Eduardo Moura",
      "photoUrl": "https://lh3.googleusercontent.com/a-/AOh14GjbRENwmFbXh90kjNincbnD6Wle8bbYiPn8ZTE2mQ=s64",
      "userId": "17583025802959502448"
     },
     "user_tz": 180
    },
    "id": "24f766d2"
   },
   "outputs": [],
   "source": [
    "# #Tranformar valores da class diabetes em 0 e 1\n",
    "# my_df.loc[(my_df['diabetes'] == 2), 'diabetes'] = 1"
   ]
  },
  {
   "cell_type": "code",
   "execution_count": 21,
   "metadata": {
    "colab": {
     "base_uri": "https://localhost:8080/"
    },
    "executionInfo": {
     "elapsed": 8,
     "status": "ok",
     "timestamp": 1648251259625,
     "user": {
      "displayName": "Eduardo Moura",
      "photoUrl": "https://lh3.googleusercontent.com/a-/AOh14GjbRENwmFbXh90kjNincbnD6Wle8bbYiPn8ZTE2mQ=s64",
      "userId": "17583025802959502448"
     },
     "user_tz": 180
    },
    "id": "e473712d",
    "outputId": "793b2726-17af-4178-8254-61c79db558fe"
   },
   "outputs": [
    {
     "data": {
      "text/plain": [
       "diabetes\n",
       "0    213703\n",
       "1      4631\n",
       "2     35346\n",
       "dtype: int64"
      ]
     },
     "execution_count": 21,
     "metadata": {},
     "output_type": "execute_result"
    }
   ],
   "source": [
    "agrupado = my_df.groupby(['diabetes']).size()\n",
    "agrupado"
   ]
  },
  {
   "cell_type": "code",
   "execution_count": 22,
   "metadata": {
    "executionInfo": {
     "elapsed": 695,
     "status": "ok",
     "timestamp": 1648251328191,
     "user": {
      "displayName": "Eduardo Moura",
      "photoUrl": "https://lh3.googleusercontent.com/a-/AOh14GjbRENwmFbXh90kjNincbnD6Wle8bbYiPn8ZTE2mQ=s64",
      "userId": "17583025802959502448"
     },
     "user_tz": 180
    },
    "id": "681d7cbe"
   },
   "outputs": [],
   "source": [
    "my_df.to_parquet(pRaiz +'/2_Dados/Analize_Exploratoria.parquet.gzip',compression='gzip')"
   ]
  },
  {
   "cell_type": "code",
   "execution_count": null,
   "metadata": {},
   "outputs": [],
   "source": []
  }
 ],
 "metadata": {
  "colab": {
   "name": "Limpeza_PréProcessamento.ipynb",
   "provenance": []
  },
  "kernelspec": {
   "display_name": "Python 3",
   "language": "python",
   "name": "python3"
  },
  "language_info": {
   "codemirror_mode": {
    "name": "ipython",
    "version": 3
   },
   "file_extension": ".py",
   "mimetype": "text/x-python",
   "name": "python",
   "nbconvert_exporter": "python",
   "pygments_lexer": "ipython3",
   "version": "3.8.3"
  }
 },
 "nbformat": 4,
 "nbformat_minor": 5
}
