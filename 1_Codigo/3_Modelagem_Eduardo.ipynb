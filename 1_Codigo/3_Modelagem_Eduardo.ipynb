{
 "cells": [
  {
   "cell_type": "markdown",
   "id": "e810e571",
   "metadata": {
    "id": "e810e571"
   },
   "source": [
    "# Modelagem"
   ]
  },
  {
   "cell_type": "markdown",
   "id": "d5210f98",
   "metadata": {
    "id": "d5210f98"
   },
   "source": [
    "# Pontos\n",
    "\n"
   ]
  },
  {
   "cell_type": "code",
   "execution_count": 5,
   "id": "3d4cc509",
   "metadata": {
    "id": "3d4cc509"
   },
   "outputs": [],
   "source": [
    "#Verificar quais colunas serão necessárias. \n",
    "#Organizar o dataset."
   ]
  },
  {
   "cell_type": "code",
   "execution_count": 6,
   "id": "fef3657c",
   "metadata": {
    "id": "fef3657c"
   },
   "outputs": [],
   "source": [
    "import pandas as pd\n",
    "import numpy as np\n",
    "import matplotlib.pyplot as plt"
   ]
  },
  {
   "cell_type": "code",
   "execution_count": 7,
   "id": "ed75b113",
   "metadata": {
    "colab": {
     "base_uri": "https://localhost:8080/",
     "height": 488
    },
    "id": "ed75b113",
    "outputId": "7637e307-9f0f-4bc6-e72f-fb9f6148e0f2"
   },
   "outputs": [
    {
     "data": {
      "text/html": [
       "<div>\n",
       "<style scoped>\n",
       "    .dataframe tbody tr th:only-of-type {\n",
       "        vertical-align: middle;\n",
       "    }\n",
       "\n",
       "    .dataframe tbody tr th {\n",
       "        vertical-align: top;\n",
       "    }\n",
       "\n",
       "    .dataframe thead th {\n",
       "        text-align: right;\n",
       "    }\n",
       "</style>\n",
       "<table border=\"1\" class=\"dataframe\">\n",
       "  <thead>\n",
       "    <tr style=\"text-align: right;\">\n",
       "      <th></th>\n",
       "      <th>diabetes</th>\n",
       "      <th>pressao_alta</th>\n",
       "      <th>colesterol_alto</th>\n",
       "      <th>testou_colesterol</th>\n",
       "      <th>IMC</th>\n",
       "      <th>fumante</th>\n",
       "      <th>AVC</th>\n",
       "      <th>ataque_cardiaco</th>\n",
       "      <th>ativ_fisica</th>\n",
       "      <th>consome_frutas</th>\n",
       "      <th>...</th>\n",
       "      <th>seguro_saude</th>\n",
       "      <th>n_foi_med_custo</th>\n",
       "      <th>auto_aval_saude</th>\n",
       "      <th>saude_mental</th>\n",
       "      <th>saude_fisica</th>\n",
       "      <th>dif_escadas</th>\n",
       "      <th>sexo</th>\n",
       "      <th>class_idade</th>\n",
       "      <th>class_educ</th>\n",
       "      <th>class_renda</th>\n",
       "    </tr>\n",
       "  </thead>\n",
       "  <tbody>\n",
       "    <tr>\n",
       "      <th>0</th>\n",
       "      <td>0</td>\n",
       "      <td>1</td>\n",
       "      <td>1</td>\n",
       "      <td>1</td>\n",
       "      <td>40</td>\n",
       "      <td>1</td>\n",
       "      <td>0</td>\n",
       "      <td>0</td>\n",
       "      <td>0</td>\n",
       "      <td>0</td>\n",
       "      <td>...</td>\n",
       "      <td>1</td>\n",
       "      <td>0</td>\n",
       "      <td>5</td>\n",
       "      <td>18</td>\n",
       "      <td>15</td>\n",
       "      <td>1</td>\n",
       "      <td>0</td>\n",
       "      <td>9</td>\n",
       "      <td>4</td>\n",
       "      <td>3</td>\n",
       "    </tr>\n",
       "    <tr>\n",
       "      <th>1</th>\n",
       "      <td>0</td>\n",
       "      <td>0</td>\n",
       "      <td>0</td>\n",
       "      <td>0</td>\n",
       "      <td>25</td>\n",
       "      <td>1</td>\n",
       "      <td>0</td>\n",
       "      <td>0</td>\n",
       "      <td>1</td>\n",
       "      <td>0</td>\n",
       "      <td>...</td>\n",
       "      <td>0</td>\n",
       "      <td>1</td>\n",
       "      <td>3</td>\n",
       "      <td>0</td>\n",
       "      <td>0</td>\n",
       "      <td>0</td>\n",
       "      <td>0</td>\n",
       "      <td>7</td>\n",
       "      <td>6</td>\n",
       "      <td>1</td>\n",
       "    </tr>\n",
       "    <tr>\n",
       "      <th>2</th>\n",
       "      <td>0</td>\n",
       "      <td>1</td>\n",
       "      <td>1</td>\n",
       "      <td>1</td>\n",
       "      <td>28</td>\n",
       "      <td>0</td>\n",
       "      <td>0</td>\n",
       "      <td>0</td>\n",
       "      <td>0</td>\n",
       "      <td>1</td>\n",
       "      <td>...</td>\n",
       "      <td>1</td>\n",
       "      <td>1</td>\n",
       "      <td>5</td>\n",
       "      <td>30</td>\n",
       "      <td>30</td>\n",
       "      <td>1</td>\n",
       "      <td>0</td>\n",
       "      <td>9</td>\n",
       "      <td>4</td>\n",
       "      <td>8</td>\n",
       "    </tr>\n",
       "    <tr>\n",
       "      <th>3</th>\n",
       "      <td>0</td>\n",
       "      <td>1</td>\n",
       "      <td>0</td>\n",
       "      <td>1</td>\n",
       "      <td>27</td>\n",
       "      <td>0</td>\n",
       "      <td>0</td>\n",
       "      <td>0</td>\n",
       "      <td>1</td>\n",
       "      <td>1</td>\n",
       "      <td>...</td>\n",
       "      <td>1</td>\n",
       "      <td>0</td>\n",
       "      <td>2</td>\n",
       "      <td>0</td>\n",
       "      <td>0</td>\n",
       "      <td>0</td>\n",
       "      <td>0</td>\n",
       "      <td>11</td>\n",
       "      <td>3</td>\n",
       "      <td>6</td>\n",
       "    </tr>\n",
       "    <tr>\n",
       "      <th>4</th>\n",
       "      <td>0</td>\n",
       "      <td>1</td>\n",
       "      <td>1</td>\n",
       "      <td>1</td>\n",
       "      <td>24</td>\n",
       "      <td>0</td>\n",
       "      <td>0</td>\n",
       "      <td>0</td>\n",
       "      <td>1</td>\n",
       "      <td>1</td>\n",
       "      <td>...</td>\n",
       "      <td>1</td>\n",
       "      <td>0</td>\n",
       "      <td>2</td>\n",
       "      <td>3</td>\n",
       "      <td>0</td>\n",
       "      <td>0</td>\n",
       "      <td>0</td>\n",
       "      <td>11</td>\n",
       "      <td>5</td>\n",
       "      <td>4</td>\n",
       "    </tr>\n",
       "  </tbody>\n",
       "</table>\n",
       "<p>5 rows × 22 columns</p>\n",
       "</div>"
      ],
      "text/plain": [
       "   diabetes  pressao_alta  colesterol_alto  testou_colesterol  IMC  fumante  \\\n",
       "0         0             1                1                  1   40        1   \n",
       "1         0             0                0                  0   25        1   \n",
       "2         0             1                1                  1   28        0   \n",
       "3         0             1                0                  1   27        0   \n",
       "4         0             1                1                  1   24        0   \n",
       "\n",
       "   AVC  ataque_cardiaco  ativ_fisica  consome_frutas  ...  seguro_saude  \\\n",
       "0    0                0            0               0  ...             1   \n",
       "1    0                0            1               0  ...             0   \n",
       "2    0                0            0               1  ...             1   \n",
       "3    0                0            1               1  ...             1   \n",
       "4    0                0            1               1  ...             1   \n",
       "\n",
       "   n_foi_med_custo  auto_aval_saude  saude_mental  saude_fisica  dif_escadas  \\\n",
       "0                0                5            18            15            1   \n",
       "1                1                3             0             0            0   \n",
       "2                1                5            30            30            1   \n",
       "3                0                2             0             0            0   \n",
       "4                0                2             3             0            0   \n",
       "\n",
       "   sexo  class_idade  class_educ  class_renda  \n",
       "0     0            9           4            3  \n",
       "1     0            7           6            1  \n",
       "2     0            9           4            8  \n",
       "3     0           11           3            6  \n",
       "4     0           11           5            4  \n",
       "\n",
       "[5 rows x 22 columns]"
      ]
     },
     "execution_count": 7,
     "metadata": {},
     "output_type": "execute_result"
    }
   ],
   "source": [
    "my_df = pd.read_parquet('../2_Dados/Modelagem.parquet.gzip', engine='pyarrow')\n",
    "my_df.head()"
   ]
  },
  {
   "cell_type": "code",
   "execution_count": 8,
   "id": "dc_w2GXKYJJv",
   "metadata": {
    "colab": {
     "base_uri": "https://localhost:8080/"
    },
    "id": "dc_w2GXKYJJv",
    "outputId": "80b182c2-a936-4e69-831a-3cd774b329ce"
   },
   "outputs": [
    {
     "data": {
      "text/plain": [
       "(253680, 22)"
      ]
     },
     "execution_count": 8,
     "metadata": {},
     "output_type": "execute_result"
    }
   ],
   "source": [
    "my_df.shape"
   ]
  },
  {
   "cell_type": "code",
   "execution_count": 9,
   "id": "8a673a4c",
   "metadata": {
    "id": "8a673a4c"
   },
   "outputs": [],
   "source": [
    "# my_df.columns"
   ]
  },
  {
   "cell_type": "code",
   "execution_count": 10,
   "id": "00a9359d",
   "metadata": {
    "id": "00a9359d"
   },
   "outputs": [],
   "source": [
    "my_df = my_df[['pressao_alta', 'colesterol_alto',\n",
    "       'IMC', 'fumante', 'ataque_cardiaco', 'ativ_fisica',\n",
    "       'consome_frutas', 'consome_vegetais', 'consumo_alcool', 'auto_aval_saude', 'saude_fisica',\n",
    "       'dif_escadas', 'sexo','diabetes']]"
   ]
  },
  {
   "cell_type": "code",
   "execution_count": 11,
   "id": "34c24a58",
   "metadata": {
    "id": "34c24a58"
   },
   "outputs": [],
   "source": [
    "# my_df.head(5)"
   ]
  },
  {
   "cell_type": "code",
   "execution_count": 12,
   "id": "b95cff4c",
   "metadata": {
    "id": "b95cff4c"
   },
   "outputs": [],
   "source": [
    "# my_df.info()"
   ]
  },
  {
   "cell_type": "markdown",
   "id": "DB5poZQX1LF3",
   "metadata": {
    "id": "DB5poZQX1LF3"
   },
   "source": [
    "#Separando os dados"
   ]
  },
  {
   "cell_type": "code",
   "execution_count": 13,
   "id": "VEfNyAiy1Q9z",
   "metadata": {
    "id": "VEfNyAiy1Q9z"
   },
   "outputs": [],
   "source": [
    "target_name = 'diabetes'\n",
    "X = my_df.drop('diabetes', axis=1)\n",
    "y = my_df[target_name]"
   ]
  },
  {
   "cell_type": "code",
   "execution_count": 14,
   "id": "6q0Qh5nGifAR",
   "metadata": {
    "cellView": "code",
    "colab": {
     "base_uri": "https://localhost:8080/"
    },
    "id": "6q0Qh5nGifAR",
    "outputId": "57a48149-2ff7-48ba-ad83-6d1cc4c90b68"
   },
   "outputs": [
    {
     "data": {
      "text/plain": [
       "0         0\n",
       "1         0\n",
       "2         0\n",
       "3         0\n",
       "4         0\n",
       "         ..\n",
       "253675    0\n",
       "253676    1\n",
       "253677    0\n",
       "253678    0\n",
       "253679    1\n",
       "Name: diabetes, Length: 253680, dtype: int64"
      ]
     },
     "execution_count": 14,
     "metadata": {},
     "output_type": "execute_result"
    }
   ],
   "source": [
    "\n",
    "y"
   ]
  },
  {
   "cell_type": "markdown",
   "id": "u8ezHbgC03cG",
   "metadata": {
    "id": "u8ezHbgC03cG"
   },
   "source": [
    "#Transformando os dados."
   ]
  },
  {
   "cell_type": "code",
   "execution_count": 15,
   "id": "jXLz9WBa095_",
   "metadata": {
    "id": "jXLz9WBa095_"
   },
   "outputs": [],
   "source": [
    "from sklearn.preprocessing import MinMaxScaler"
   ]
  },
  {
   "cell_type": "code",
   "execution_count": 16,
   "id": "s6aD4Oc_1CVv",
   "metadata": {
    "id": "s6aD4Oc_1CVv"
   },
   "outputs": [],
   "source": [
    "scaler = MinMaxScaler()"
   ]
  },
  {
   "cell_type": "code",
   "execution_count": 17,
   "id": "UdS1Xl5o18-9",
   "metadata": {
    "colab": {
     "base_uri": "https://localhost:8080/"
    },
    "id": "UdS1Xl5o18-9",
    "outputId": "0cef4dc9-ffc6-4a54-ef8c-01b16912ccfe"
   },
   "outputs": [
    {
     "data": {
      "text/plain": [
       "array([[1.        , 1.        , 0.3255814 , ..., 0.5       , 1.        ,\n",
       "        0.        ],\n",
       "       [0.        , 0.        , 0.15116279, ..., 0.        , 0.        ,\n",
       "        0.        ],\n",
       "       [1.        , 1.        , 0.18604651, ..., 1.        , 1.        ,\n",
       "        0.        ],\n",
       "       ...,\n",
       "       [0.        , 0.        , 0.18604651, ..., 0.        , 0.        ,\n",
       "        0.        ],\n",
       "       [1.        , 0.        , 0.12790698, ..., 0.        , 0.        ,\n",
       "        1.        ],\n",
       "       [1.        , 1.        , 0.15116279, ..., 0.        , 0.        ,\n",
       "        0.        ]])"
      ]
     },
     "execution_count": 17,
     "metadata": {},
     "output_type": "execute_result"
    }
   ],
   "source": [
    "X = scaler.fit_transform(X)\n",
    "X"
   ]
  },
  {
   "cell_type": "code",
   "execution_count": 18,
   "id": "HFEspwPpvxob",
   "metadata": {
    "id": "HFEspwPpvxob"
   },
   "outputs": [],
   "source": [
    "from sklearn.model_selection import train_test_split"
   ]
  },
  {
   "cell_type": "code",
   "execution_count": 19,
   "id": "oic1gIw5wmNX",
   "metadata": {
    "id": "oic1gIw5wmNX"
   },
   "outputs": [],
   "source": [
    "X_train, X_test, y_train, y_test = train_test_split(\n",
    "        X\n",
    "       ,y\n",
    "       ,test_size = 0.3\n",
    "       ,random_state = 123\n",
    "       ,stratify = y\n",
    ")"
   ]
  },
  {
   "cell_type": "markdown",
   "id": "yOSZ7x0-xPjN",
   "metadata": {
    "id": "yOSZ7x0-xPjN"
   },
   "source": [
    "#### **Treinando o algoritmo de arvore de decisão.**"
   ]
  },
  {
   "cell_type": "code",
   "execution_count": 20,
   "id": "v8wjlzIoyKPP",
   "metadata": {
    "id": "v8wjlzIoyKPP"
   },
   "outputs": [],
   "source": [
    "from sklearn.tree import DecisionTreeClassifier"
   ]
  },
  {
   "cell_type": "code",
   "execution_count": 21,
   "id": "7MQ-IZLhxia-",
   "metadata": {
    "id": "7MQ-IZLhxia-"
   },
   "outputs": [],
   "source": [
    "dtree = DecisionTreeClassifier()\n",
    "dtree = dtree.fit(X_train,y_train)"
   ]
  },
  {
   "cell_type": "markdown",
   "id": "zSzuy_lbSq8M",
   "metadata": {
    "id": "zSzuy_lbSq8M"
   },
   "source": [
    "###Extrair as características mais importantes"
   ]
  },
  {
   "cell_type": "code",
   "execution_count": 22,
   "id": "UrDiUyvZyO5v",
   "metadata": {
    "id": "UrDiUyvZyO5v"
   },
   "outputs": [],
   "source": [
    "importances = dtree.feature_importances_\n",
    "feat_names = my_df.drop(['diabetes'],axis=1).columns"
   ]
  },
  {
   "cell_type": "code",
   "execution_count": 23,
   "id": "Qb0YXRySyY8r",
   "metadata": {
    "colab": {
     "base_uri": "https://localhost:8080/",
     "height": 401
    },
    "id": "Qb0YXRySyY8r",
    "outputId": "4f6fec84-6f7b-44b6-897e-77bff983ae8f"
   },
   "outputs": [
    {
     "data": {
      "image/png": "[encoded data removed]",
      "text/plain": [
       "<Figure size 864x288 with 1 Axes>"
      ]
     },
     "metadata": {
      "needs_background": "light"
     },
     "output_type": "display_data"
    }
   ],
   "source": [
    "indices = np.argsort(importances)[::-1]\n",
    "plt.figure(figsize=(12,4))\n",
    "plt.title(\"Feature importances by DecisionTreeClassifier\")\n",
    "plt.bar(range(len(indices)), importances[indices], color='lightblue',  align=\"center\")\n",
    "plt.xticks(range(len(indices)), feat_names[indices], rotation='vertical',fontsize=14)\n",
    "plt.xlim([-1, len(indices)])\n",
    "plt.show()"
   ]
  },
  {
   "cell_type": "code",
   "execution_count": 24,
   "id": "xFWSG1dKSDF7",
   "metadata": {
    "id": "xFWSG1dKSDF7"
   },
   "outputs": [],
   "source": [
    "from sklearn.ensemble import ExtraTreesClassifier"
   ]
  },
  {
   "cell_type": "code",
   "execution_count": 25,
   "id": "lcyWADkSSQ1a",
   "metadata": {
    "id": "lcyWADkSSQ1a"
   },
   "outputs": [],
   "source": [
    "# Utilização do algoritmo ExtraTreesClassifier para extrair as características mais importantes\n",
    "forest = ExtraTreesClassifier()\n",
    "forest.fit(X_train,y_train)\n",
    "importancias = forest.feature_importances_"
   ]
  },
  {
   "cell_type": "code",
   "execution_count": 26,
   "id": "R4oCeDLQTz2t",
   "metadata": {
    "colab": {
     "base_uri": "https://localhost:8080/",
     "height": 401
    },
    "id": "R4oCeDLQTz2t",
    "outputId": "816bb1fd-a0e6-4b21-96e3-054381cca3c5"
   },
   "outputs": [
    {
     "data": {
      "image/png": "[encoded data removed]",
      "text/plain": [
       "<Figure size 864x288 with 1 Axes>"
      ]
     },
     "metadata": {
      "needs_background": "light"
     },
     "output_type": "display_data"
    }
   ],
   "source": [
    "indices = np.argsort(importancias)[::-1]\n",
    "plt.figure(figsize=(12,4))\n",
    "plt.title(\"Feature importances by ExtraTreesClassifier\")\n",
    "plt.bar(range(len(indices)), importancias[indices], color='lightblue',  align=\"center\")\n",
    "plt.xticks(range(len(indices)), feat_names[indices], rotation='vertical',fontsize=14)\n",
    "plt.xlim([-1, len(indices)])\n",
    "plt.show()"
   ]
  },
  {
   "cell_type": "code",
   "execution_count": 27,
   "id": "P4N60AMvzHeZ",
   "metadata": {
    "id": "P4N60AMvzHeZ"
   },
   "outputs": [],
   "source": [
    "# X = my_df[[\"IMC\",\"saude_fisica\",\"pressao_alta\",\"auto_aval_saude\"]]\n",
    "X = my_df[[\"IMC\",\"saude_fisica\",\"pressao_alta\",\"auto_aval_saude\",\"consome_frutas\",\"ativ_fisica\",\"fumante\",\"consome_vegetais\"]]"
   ]
  },
  {
   "cell_type": "code",
   "execution_count": 28,
   "id": "KswmvNb6ziB9",
   "metadata": {
    "id": "KswmvNb6ziB9"
   },
   "outputs": [],
   "source": [
    "scaler = MinMaxScaler()"
   ]
  },
  {
   "cell_type": "code",
   "execution_count": 29,
   "id": "iJAQrriVzl9V",
   "metadata": {
    "id": "iJAQrriVzl9V"
   },
   "outputs": [],
   "source": [
    "X = scaler.fit_transform(X)"
   ]
  },
  {
   "cell_type": "code",
   "execution_count": 30,
   "id": "wMG7Xi1dzqjX",
   "metadata": {
    "id": "wMG7Xi1dzqjX"
   },
   "outputs": [],
   "source": [
    "X_train, X_test, y_train, y_Test = train_test_split(\n",
    "        X\n",
    "       ,y\n",
    "       ,test_size = 0.3\n",
    "       ,random_state = 123\n",
    "       ,stratify = y\n",
    ")"
   ]
  },
  {
   "cell_type": "code",
   "execution_count": 31,
   "id": "0nv510-Xz358",
   "metadata": {
    "id": "0nv510-Xz358"
   },
   "outputs": [],
   "source": [
    "def base_rate_model(X) :\n",
    "    y = np.zeros(X.shape[0])\n",
    "    return y"
   ]
  },
  {
   "cell_type": "markdown",
   "id": "YwWNULtxz7bM",
   "metadata": {
    "id": "YwWNULtxz7bM"
   },
   "source": [
    "###**Importando métodos de métrica de avaliação.**"
   ]
  },
  {
   "cell_type": "code",
   "execution_count": 32,
   "id": "9pkhxzoW0BKd",
   "metadata": {
    "id": "9pkhxzoW0BKd"
   },
   "outputs": [],
   "source": [
    "from sklearn.metrics import roc_auc_score\n",
    "from sklearn.metrics import accuracy_score\n",
    "from sklearn.metrics import classification_report"
   ]
  },
  {
   "cell_type": "code",
   "execution_count": 33,
   "id": "jL5fZLfS0MgB",
   "metadata": {
    "id": "jL5fZLfS0MgB"
   },
   "outputs": [],
   "source": [
    "def accuracy_result(y_test,y_predict):\n",
    "    acc = accuracy_score(y_test, y_predict)\n",
    "    print (\"Accuracy = %2.2f\" % acc)"
   ]
  },
  {
   "cell_type": "code",
   "execution_count": 34,
   "id": "qXequIu20Pzp",
   "metadata": {
    "id": "qXequIu20Pzp"
   },
   "outputs": [],
   "source": [
    "def roc_classification_report_results(model,y_test,y_predict):\n",
    "    roc_ = roc_auc_score(y_test, y_predict)\n",
    "    classfication_report = classification_report(y_test, y_predict)\n",
    "    \n",
    "    print (\"\\n{} AUC = {}\\n\".format(model, roc_))\n",
    "    print(classfication_report)"
   ]
  },
  {
   "cell_type": "markdown",
   "id": "UtZy-TTs0UWd",
   "metadata": {
    "id": "UtZy-TTs0UWd"
   },
   "source": [
    "###**Análise do modelo de baseline**"
   ]
  },
  {
   "cell_type": "code",
   "execution_count": 35,
   "id": "7MwCRG_b0ble",
   "metadata": {
    "id": "7MwCRG_b0ble"
   },
   "outputs": [],
   "source": [
    "y_predict = base_rate_model(X_test)"
   ]
  },
  {
   "cell_type": "code",
   "execution_count": 36,
   "id": "da95UIWE0etS",
   "metadata": {
    "colab": {
     "base_uri": "https://localhost:8080/"
    },
    "id": "da95UIWE0etS",
    "outputId": "a10f8c98-98c5-4cc7-8a14-9b2134ab3742"
   },
   "outputs": [
    {
     "name": "stdout",
     "output_type": "stream",
     "text": [
      "Accuracy = 0.86\n"
     ]
    }
   ],
   "source": [
    "accuracy_result(y_Test, y_predict)"
   ]
  },
  {
   "cell_type": "code",
   "execution_count": 37,
   "id": "9Y4P47F30oM7",
   "metadata": {
    "colab": {
     "base_uri": "https://localhost:8080/"
    },
    "id": "9Y4P47F30oM7",
    "outputId": "b70d3247-19e0-43ec-a734-5a4dc1fe78cb"
   },
   "outputs": [
    {
     "name": "stdout",
     "output_type": "stream",
     "text": [
      "\n",
      "Base Model AUC = 0.5\n",
      "\n",
      "              precision    recall  f1-score   support\n",
      "\n",
      "           0       0.86      1.00      0.93     65500\n",
      "           1       0.00      0.00      0.00     10604\n",
      "\n",
      "    accuracy                           0.86     76104\n",
      "   macro avg       0.43      0.50      0.46     76104\n",
      "weighted avg       0.74      0.86      0.80     76104\n",
      "\n"
     ]
    },
    {
     "name": "stderr",
     "output_type": "stream",
     "text": [
      "C:\\ProgramData\\Anaconda3\\lib\\site-packages\\sklearn\\metrics\\_classification.py:1248: UndefinedMetricWarning: Precision and F-score are ill-defined and being set to 0.0 in labels with no predicted samples. Use `zero_division` parameter to control this behavior.\n",
      "  _warn_prf(average, modifier, msg_start, len(result))\n",
      "C:\\ProgramData\\Anaconda3\\lib\\site-packages\\sklearn\\metrics\\_classification.py:1248: UndefinedMetricWarning: Precision and F-score are ill-defined and being set to 0.0 in labels with no predicted samples. Use `zero_division` parameter to control this behavior.\n",
      "  _warn_prf(average, modifier, msg_start, len(result))\n",
      "C:\\ProgramData\\Anaconda3\\lib\\site-packages\\sklearn\\metrics\\_classification.py:1248: UndefinedMetricWarning: Precision and F-score are ill-defined and being set to 0.0 in labels with no predicted samples. Use `zero_division` parameter to control this behavior.\n",
      "  _warn_prf(average, modifier, msg_start, len(result))\n"
     ]
    }
   ],
   "source": [
    "roc_classification_report_results(\"Base Model\", y_Test, y_predict)"
   ]
  },
  {
   "cell_type": "markdown",
   "id": "yfilwfbe2nhm",
   "metadata": {
    "id": "yfilwfbe2nhm"
   },
   "source": [
    "### **Modelo de Regressão Logística.**"
   ]
  },
  {
   "cell_type": "markdown",
   "id": "0QOpeFS53Ctj",
   "metadata": {
    "id": "0QOpeFS53Ctj"
   },
   "source": [
    "#### **Instânciando o algoritmo.**"
   ]
  },
  {
   "cell_type": "code",
   "execution_count": 38,
   "id": "LaEPeRhv3IZp",
   "metadata": {
    "id": "LaEPeRhv3IZp"
   },
   "outputs": [],
   "source": [
    "from sklearn.linear_model import LogisticRegression\n",
    "logis = LogisticRegression()"
   ]
  },
  {
   "cell_type": "markdown",
   "id": "LqhL4EWp3OuT",
   "metadata": {
    "id": "LqhL4EWp3OuT"
   },
   "source": [
    "#### **Realizando o treinamento.**"
   ]
  },
  {
   "cell_type": "code",
   "execution_count": 39,
   "id": "irA9BS-13Vhw",
   "metadata": {
    "colab": {
     "base_uri": "https://localhost:8080/"
    },
    "id": "irA9BS-13Vhw",
    "outputId": "e0eb1c4d-f90e-4a9b-ab6e-2a5bb3a56176"
   },
   "outputs": [
    {
     "data": {
      "text/plain": [
       "LogisticRegression()"
      ]
     },
     "execution_count": 39,
     "metadata": {},
     "output_type": "execute_result"
    }
   ],
   "source": [
    "logis.fit(X_train, y_train)"
   ]
  },
  {
   "cell_type": "markdown",
   "id": "qM-i7eHl3sVa",
   "metadata": {
    "id": "qM-i7eHl3sVa"
   },
   "source": [
    "#### **Calculando as predições.**"
   ]
  },
  {
   "cell_type": "code",
   "execution_count": 40,
   "id": "GRHA8iff3zMj",
   "metadata": {
    "id": "GRHA8iff3zMj"
   },
   "outputs": [],
   "source": [
    "y_predict = logis.predict(X_test)"
   ]
  },
  {
   "cell_type": "markdown",
   "id": "TkywLQbU324r",
   "metadata": {
    "id": "TkywLQbU324r"
   },
   "source": [
    "###**Avaliando o resultado.**"
   ]
  },
  {
   "cell_type": "code",
   "execution_count": 41,
   "id": "ezoFGr4w38vw",
   "metadata": {
    "colab": {
     "base_uri": "https://localhost:8080/"
    },
    "id": "ezoFGr4w38vw",
    "outputId": "5ccbf7be-2165-4716-99fa-243e6a96ef7e"
   },
   "outputs": [
    {
     "name": "stdout",
     "output_type": "stream",
     "text": [
      "Accuracy = 0.86\n"
     ]
    }
   ],
   "source": [
    "accuracy_result(y_Test, y_predict)"
   ]
  },
  {
   "cell_type": "code",
   "execution_count": 42,
   "id": "rT99jQEK4Fwg",
   "metadata": {
    "colab": {
     "base_uri": "https://localhost:8080/"
    },
    "id": "rT99jQEK4Fwg",
    "outputId": "cdf449d7-d4c2-482a-e492-899981a4e652"
   },
   "outputs": [
    {
     "name": "stdout",
     "output_type": "stream",
     "text": [
      "\n",
      "Logistic Regression AUC = 0.5447707418488199\n",
      "\n",
      "              precision    recall  f1-score   support\n",
      "\n",
      "           0       0.87      0.98      0.92     65500\n",
      "           1       0.52      0.11      0.18     10604\n",
      "\n",
      "    accuracy                           0.86     76104\n",
      "   macro avg       0.69      0.54      0.55     76104\n",
      "weighted avg       0.82      0.86      0.82     76104\n",
      "\n"
     ]
    }
   ],
   "source": [
    "roc_classification_report_results(\"Logistic Regression\", y_Test, y_predict)"
   ]
  },
  {
   "cell_type": "markdown",
   "id": "o24o7rRTD_QH",
   "metadata": {
    "id": "o24o7rRTD_QH"
   },
   "source": [
    "### **Modelo de Arvore de decisão.**"
   ]
  },
  {
   "cell_type": "markdown",
   "id": "EiHFnuqxEFrn",
   "metadata": {
    "id": "EiHFnuqxEFrn"
   },
   "source": [
    "#### **Instânciando o algoritmo.**"
   ]
  },
  {
   "cell_type": "code",
   "execution_count": 43,
   "id": "_E5Ow_SGENBf",
   "metadata": {
    "id": "_E5Ow_SGENBf"
   },
   "outputs": [],
   "source": [
    "from sklearn.tree import DecisionTreeClassifier\n",
    "dtree = DecisionTreeClassifier()"
   ]
  },
  {
   "cell_type": "markdown",
   "id": "IyRWnWtXEbJt",
   "metadata": {
    "id": "IyRWnWtXEbJt"
   },
   "source": [
    "#### **Realizando o treinamento.**"
   ]
  },
  {
   "cell_type": "code",
   "execution_count": 44,
   "id": "8muDZjAdEmYH",
   "metadata": {
    "id": "8muDZjAdEmYH"
   },
   "outputs": [],
   "source": [
    "dtree = dtree.fit(X_train,y_train)"
   ]
  },
  {
   "cell_type": "markdown",
   "id": "xBNGqziLEqU8",
   "metadata": {
    "id": "xBNGqziLEqU8"
   },
   "source": [
    "#### **Calculando as predições.**"
   ]
  },
  {
   "cell_type": "code",
   "execution_count": 45,
   "id": "H_w_mdtoEuEw",
   "metadata": {
    "id": "H_w_mdtoEuEw"
   },
   "outputs": [],
   "source": [
    "y_predict = dtree.predict(X_test)"
   ]
  },
  {
   "cell_type": "markdown",
   "id": "3_hvqqelE5e-",
   "metadata": {
    "id": "3_hvqqelE5e-"
   },
   "source": [
    "#### **Avaliando o resultado.**"
   ]
  },
  {
   "cell_type": "code",
   "execution_count": 46,
   "id": "lhmLAvOkE9dR",
   "metadata": {
    "colab": {
     "base_uri": "https://localhost:8080/"
    },
    "id": "lhmLAvOkE9dR",
    "outputId": "d445153d-2cd1-478c-d708-1227986b8fd0"
   },
   "outputs": [
    {
     "name": "stdout",
     "output_type": "stream",
     "text": [
      "Accuracy = 0.85\n"
     ]
    }
   ],
   "source": [
    "accuracy_result(y_Test, y_predict)"
   ]
  },
  {
   "cell_type": "code",
   "execution_count": 47,
   "id": "cuUgRXbrFCPo",
   "metadata": {
    "colab": {
     "base_uri": "https://localhost:8080/"
    },
    "id": "cuUgRXbrFCPo",
    "outputId": "07435e77-74a0-4153-968e-0ef3a3a98d20"
   },
   "outputs": [
    {
     "name": "stdout",
     "output_type": "stream",
     "text": [
      "\n",
      "Decision Tree AUC = 0.5526141078838174\n",
      "\n",
      "              precision    recall  f1-score   support\n",
      "\n",
      "           0       0.87      0.96      0.91     65500\n",
      "           1       0.37      0.15      0.21     10604\n",
      "\n",
      "    accuracy                           0.85     76104\n",
      "   macro avg       0.62      0.55      0.56     76104\n",
      "weighted avg       0.80      0.85      0.82     76104\n",
      "\n"
     ]
    }
   ],
   "source": [
    "roc_classification_report_results(\"Decision Tree\", y_Test, y_predict)"
   ]
  },
  {
   "cell_type": "markdown",
   "id": "LKhoMc8eFkVF",
   "metadata": {
    "id": "LKhoMc8eFkVF"
   },
   "source": [
    "### **Modelo de Arvore Aleatória (Random Forest)**"
   ]
  },
  {
   "cell_type": "markdown",
   "id": "iNxF5jF0FqLh",
   "metadata": {
    "id": "iNxF5jF0FqLh"
   },
   "source": [
    "###**Instânciando o algoritmo.**"
   ]
  },
  {
   "cell_type": "code",
   "execution_count": 48,
   "id": "wcY4BlGSFvLj",
   "metadata": {
    "id": "wcY4BlGSFvLj"
   },
   "outputs": [],
   "source": [
    "from sklearn.ensemble import RandomForestClassifier"
   ]
  },
  {
   "cell_type": "code",
   "execution_count": 49,
   "id": "CXo8ovw7Fyin",
   "metadata": {
    "id": "CXo8ovw7Fyin"
   },
   "outputs": [],
   "source": [
    "rf = RandomForestClassifier()"
   ]
  },
  {
   "cell_type": "markdown",
   "id": "aJYahMZbF2UU",
   "metadata": {
    "id": "aJYahMZbF2UU"
   },
   "source": [
    "#### **Realizando o treinamento.**"
   ]
  },
  {
   "cell_type": "code",
   "execution_count": 50,
   "id": "kbUHFNdRF6ub",
   "metadata": {
    "id": "kbUHFNdRF6ub"
   },
   "outputs": [],
   "source": [
    "rf = rf.fit(X_train,y_train)"
   ]
  },
  {
   "cell_type": "markdown",
   "id": "20AHt_efGB9T",
   "metadata": {
    "id": "20AHt_efGB9T"
   },
   "source": [
    "###**Calculando as predições.**"
   ]
  },
  {
   "cell_type": "code",
   "execution_count": 51,
   "id": "KT5OdrXTGHqY",
   "metadata": {
    "id": "KT5OdrXTGHqY"
   },
   "outputs": [],
   "source": [
    "y_predict = rf.predict(X_test)"
   ]
  },
  {
   "cell_type": "markdown",
   "id": "zJlVabZ6GLoE",
   "metadata": {
    "id": "zJlVabZ6GLoE"
   },
   "source": [
    "#### **Avaliando o resultado.**"
   ]
  },
  {
   "cell_type": "code",
   "execution_count": 52,
   "id": "G01V93aiGPGy",
   "metadata": {
    "colab": {
     "base_uri": "https://localhost:8080/"
    },
    "id": "G01V93aiGPGy",
    "outputId": "68966f44-1f6f-40f6-a124-9654b7771ea1"
   },
   "outputs": [
    {
     "name": "stdout",
     "output_type": "stream",
     "text": [
      "Accuracy = 0.85\n"
     ]
    }
   ],
   "source": [
    "accuracy_result(y_Test, y_predict)"
   ]
  },
  {
   "cell_type": "code",
   "execution_count": 53,
   "id": "g9UBlopvGUG6",
   "metadata": {
    "colab": {
     "base_uri": "https://localhost:8080/"
    },
    "id": "g9UBlopvGUG6",
    "outputId": "09c697be-fca4-45d1-a6c3-535d949b32da"
   },
   "outputs": [
    {
     "name": "stdout",
     "output_type": "stream",
     "text": [
      "\n",
      "Random Forest AUC = 0.5605837376648881\n",
      "\n",
      "              precision    recall  f1-score   support\n",
      "\n",
      "           0       0.88      0.96      0.92     65500\n",
      "           1       0.39      0.16      0.23     10604\n",
      "\n",
      "    accuracy                           0.85     76104\n",
      "   macro avg       0.63      0.56      0.57     76104\n",
      "weighted avg       0.81      0.85      0.82     76104\n",
      "\n"
     ]
    }
   ],
   "source": [
    "roc_classification_report_results(\"Random Forest\", y_Test, y_predict)"
   ]
  },
  {
   "cell_type": "markdown",
   "id": "PiClOEhiGcb-",
   "metadata": {
    "id": "PiClOEhiGcb-"
   },
   "source": [
    "### **Pycaret**"
   ]
  },
  {
   "cell_type": "code",
   "execution_count": 54,
   "id": "KyqTDZ2RGgHs",
   "metadata": {
    "id": "KyqTDZ2RGgHs"
   },
   "outputs": [],
   "source": [
    "# !pip install pycaret"
   ]
  },
  {
   "cell_type": "code",
   "execution_count": 55,
   "id": "aA6laRiJTObe",
   "metadata": {
    "id": "aA6laRiJTObe"
   },
   "outputs": [],
   "source": [
    "# !pip install scikit-learn== 0.23.2"
   ]
  },
  {
   "cell_type": "markdown",
   "id": "LQyDIBr4G9T9",
   "metadata": {
    "id": "LQyDIBr4G9T9"
   },
   "source": [
    "#### **Importando os métodos.**"
   ]
  },
  {
   "cell_type": "code",
   "execution_count": 56,
   "id": "tTXk5diyHBbc",
   "metadata": {
    "id": "tTXk5diyHBbc"
   },
   "outputs": [],
   "source": [
    "# from pycaret.classification import *"
   ]
  },
  {
   "cell_type": "markdown",
   "id": "snQZ1fMLHQ_q",
   "metadata": {
    "id": "snQZ1fMLHQ_q"
   },
   "source": [
    "#### **Definindo o Setup.**"
   ]
  },
  {
   "cell_type": "code",
   "execution_count": 57,
   "id": "_dTLgLwmHVRc",
   "metadata": {
    "id": "_dTLgLwmHVRc"
   },
   "outputs": [],
   "source": [
    "# s = setup( my_df[[\"IMC\",\"saude_fisica\",\"pressao_alta\",\"auto_aval_saude\",\"consome_frutas\",\"ativ_fisica\",\"fumante\",\"consome_vegetais\",\"diabetes\"]]\n",
    "#           ,target = \"diabetes\"\n",
    "#           ,numeric_features = [\"pressao_alta\"]\n",
    "#           ,normalize = True\n",
    "#           ,normalize_method = \"minmax\"\n",
    "#           ,data_split_stratify = True\n",
    "#           ,fix_imbalance = True,\n",
    "#          )"
   ]
  },
  {
   "cell_type": "markdown",
   "id": "BtdHEWXUjOGJ",
   "metadata": {
    "id": "BtdHEWXUjOGJ"
   },
   "source": [
    "#### **Comparando diferentes modelos.**"
   ]
  },
  {
   "cell_type": "code",
   "execution_count": 58,
   "id": "TptzTX-1jR_Z",
   "metadata": {
    "id": "TptzTX-1jR_Z"
   },
   "outputs": [],
   "source": [
    "# best = compare_models(fold = 5,sort = 'AUC')"
   ]
  },
  {
   "cell_type": "code",
   "execution_count": 59,
   "id": "BudE_osHtTUM",
   "metadata": {
    "id": "BudE_osHtTUM"
   },
   "outputs": [],
   "source": [
    "import joblib"
   ]
  },
  {
   "cell_type": "code",
   "execution_count": 60,
   "id": "w_7nhGZhtXK2",
   "metadata": {
    "colab": {
     "base_uri": "https://localhost:8080/"
    },
    "id": "w_7nhGZhtXK2",
    "outputId": "17a931e6-180a-49bf-f077-38a162891538"
   },
   "outputs": [
    {
     "data": {
      "text/plain": [
       "['../2_Dados/model.pkl']"
      ]
     },
     "execution_count": 60,
     "metadata": {},
     "output_type": "execute_result"
    }
   ],
   "source": [
    "joblib.dump(rf, '../2_Dados/model.pkl')"
   ]
  },
  {
   "cell_type": "code",
   "execution_count": 63,
   "id": "be42c9b7",
   "metadata": {},
   "outputs": [
    {
     "data": {
      "text/plain": [
       "RandomForestClassifier()"
      ]
     },
     "execution_count": 63,
     "metadata": {},
     "output_type": "execute_result"
    }
   ],
   "source": [
    "model = joblib.load('../2_Dados/model.pkl')\n",
    "model"
   ]
  },
  {
   "cell_type": "code",
   "execution_count": 69,
   "id": "9b5a3734",
   "metadata": {},
   "outputs": [],
   "source": [
    "teste = np.array([[28.38,4.24,0.43,2.51,0.63,0.76,0.44,0.81]])"
   ]
  },
  {
   "cell_type": "code",
   "execution_count": 70,
   "id": "9624acd5",
   "metadata": {},
   "outputs": [
    {
     "data": {
      "text/plain": [
       "array([0], dtype=int64)"
      ]
     },
     "execution_count": 70,
     "metadata": {},
     "output_type": "execute_result"
    }
   ],
   "source": [
    "model.predict(teste)"
   ]
  },
  {
   "cell_type": "code",
   "execution_count": 71,
   "id": "06c36fe1",
   "metadata": {},
   "outputs": [
    {
     "data": {
      "text/plain": [
       "array([[0.82, 0.18]])"
      ]
     },
     "execution_count": 71,
     "metadata": {},
     "output_type": "execute_result"
    }
   ],
   "source": [
    "model.predict_proba(teste)"
   ]
  }
 ],
 "metadata": {
  "colab": {
   "collapsed_sections": [],
   "name": "Modelagem.ipynb",
   "provenance": []
  },
  "kernelspec": {
   "display_name": "Python 3 (ipykernel)",
   "language": "python",
   "name": "python3"
  },
  "language_info": {
   "codemirror_mode": {
    "name": "ipython",
    "version": 3
   },
   "file_extension": ".py",
   "mimetype": "text/x-python",
   "name": "python",
   "nbconvert_exporter": "python",
   "pygments_lexer": "ipython3",
   "version": "3.9.7"
  }
 },
 "nbformat": 4,
 "nbformat_minor": 5
}
