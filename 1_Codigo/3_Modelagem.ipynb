{
 "cells": [
  {
   "cell_type": "markdown",
   "id": "e810e571",
   "metadata": {
    "id": "e810e571"
   },
   "source": [
    "# Modelagem"
   ]
  },
  {
   "cell_type": "markdown",
   "id": "d5210f98",
   "metadata": {
    "id": "d5210f98"
   },
   "source": [
    "# Pontos\n",
    "\n"
   ]
  },
  {
   "cell_type": "code",
   "execution_count": null,
   "id": "3d4cc509",
   "metadata": {
    "id": "3d4cc509"
   },
   "outputs": [],
   "source": [
    "#Verificar quais colunas serão necessárias. \n",
    "#Organizar o dataset."
   ]
  },
  {
   "cell_type": "code",
   "execution_count": 1,
   "id": "fef3657c",
   "metadata": {
    "executionInfo": {
     "elapsed": 273,
     "status": "ok",
     "timestamp": 1648252282128,
     "user": {
      "displayName": "Eduardo Moura",
      "photoUrl": "https://lh3.googleusercontent.com/a-/AOh14GjbRENwmFbXh90kjNincbnD6Wle8bbYiPn8ZTE2mQ=s64",
      "userId": "17583025802959502448"
     },
     "user_tz": 180
    },
    "id": "fef3657c"
   },
   "outputs": [],
   "source": [
    "import pandas as pd\n",
    "import numpy as np\n",
    "import matplotlib.pyplot as plt\n",
    "import os\n",
    "#!pip install pyarrow"
   ]
  },
  {
   "cell_type": "code",
   "execution_count": 2,
   "id": "7c0efaf7",
   "metadata": {},
   "outputs": [
    {
     "data": {
      "text/plain": [
       "'C:\\\\Users\\\\oedua\\\\Stack\\\\Projeto\\\\Projeto'"
      ]
     },
     "execution_count": 2,
     "metadata": {},
     "output_type": "execute_result"
    }
   ],
   "source": [
    "pRaiz = os.path.abspath(r\"..\\\\\")  \n",
    "pRaiz"
   ]
  },
  {
   "cell_type": "code",
   "execution_count": 3,
   "id": "ed75b113",
   "metadata": {
    "colab": {
     "base_uri": "https://localhost:8080/",
     "height": 300
    },
    "executionInfo": {
     "elapsed": 1468,
     "status": "ok",
     "timestamp": 1648252290823,
     "user": {
      "displayName": "Eduardo Moura",
      "photoUrl": "https://lh3.googleusercontent.com/a-/AOh14GjbRENwmFbXh90kjNincbnD6Wle8bbYiPn8ZTE2mQ=s64",
      "userId": "17583025802959502448"
     },
     "user_tz": 180
    },
    "id": "ed75b113",
    "outputId": "d0b93b53-3df4-4f9d-a7f2-b359afe2073e"
   },
   "outputs": [
    {
     "data": {
      "text/html": [
       "<div>\n",
       "<style scoped>\n",
       "    .dataframe tbody tr th:only-of-type {\n",
       "        vertical-align: middle;\n",
       "    }\n",
       "\n",
       "    .dataframe tbody tr th {\n",
       "        vertical-align: top;\n",
       "    }\n",
       "\n",
       "    .dataframe thead th {\n",
       "        text-align: right;\n",
       "    }\n",
       "</style>\n",
       "<table border=\"1\" class=\"dataframe\">\n",
       "  <thead>\n",
       "    <tr style=\"text-align: right;\">\n",
       "      <th></th>\n",
       "      <th>diabetes</th>\n",
       "      <th>pressao_alta</th>\n",
       "      <th>colesterol_alto</th>\n",
       "      <th>testou_colesterol</th>\n",
       "      <th>IMC</th>\n",
       "      <th>fumante</th>\n",
       "      <th>AVC</th>\n",
       "      <th>ataque_cardiaco</th>\n",
       "      <th>ativ_fisica</th>\n",
       "      <th>consome_frutas</th>\n",
       "      <th>...</th>\n",
       "      <th>seguro_saude</th>\n",
       "      <th>n_foi_med_custo</th>\n",
       "      <th>auto_aval_saude</th>\n",
       "      <th>saude_mental</th>\n",
       "      <th>saude_fisica</th>\n",
       "      <th>dif_escadas</th>\n",
       "      <th>sexo</th>\n",
       "      <th>class_idade</th>\n",
       "      <th>class_educ</th>\n",
       "      <th>class_renda</th>\n",
       "    </tr>\n",
       "  </thead>\n",
       "  <tbody>\n",
       "    <tr>\n",
       "      <th>0</th>\n",
       "      <td>0</td>\n",
       "      <td>1</td>\n",
       "      <td>1</td>\n",
       "      <td>1</td>\n",
       "      <td>40</td>\n",
       "      <td>1</td>\n",
       "      <td>0</td>\n",
       "      <td>0</td>\n",
       "      <td>0</td>\n",
       "      <td>0</td>\n",
       "      <td>...</td>\n",
       "      <td>1</td>\n",
       "      <td>0</td>\n",
       "      <td>5</td>\n",
       "      <td>18</td>\n",
       "      <td>15</td>\n",
       "      <td>1</td>\n",
       "      <td>0</td>\n",
       "      <td>9</td>\n",
       "      <td>4</td>\n",
       "      <td>3</td>\n",
       "    </tr>\n",
       "    <tr>\n",
       "      <th>1</th>\n",
       "      <td>0</td>\n",
       "      <td>0</td>\n",
       "      <td>0</td>\n",
       "      <td>0</td>\n",
       "      <td>25</td>\n",
       "      <td>1</td>\n",
       "      <td>0</td>\n",
       "      <td>0</td>\n",
       "      <td>1</td>\n",
       "      <td>0</td>\n",
       "      <td>...</td>\n",
       "      <td>0</td>\n",
       "      <td>1</td>\n",
       "      <td>3</td>\n",
       "      <td>0</td>\n",
       "      <td>0</td>\n",
       "      <td>0</td>\n",
       "      <td>0</td>\n",
       "      <td>7</td>\n",
       "      <td>6</td>\n",
       "      <td>1</td>\n",
       "    </tr>\n",
       "    <tr>\n",
       "      <th>2</th>\n",
       "      <td>0</td>\n",
       "      <td>1</td>\n",
       "      <td>1</td>\n",
       "      <td>1</td>\n",
       "      <td>28</td>\n",
       "      <td>0</td>\n",
       "      <td>0</td>\n",
       "      <td>0</td>\n",
       "      <td>0</td>\n",
       "      <td>1</td>\n",
       "      <td>...</td>\n",
       "      <td>1</td>\n",
       "      <td>1</td>\n",
       "      <td>5</td>\n",
       "      <td>30</td>\n",
       "      <td>30</td>\n",
       "      <td>1</td>\n",
       "      <td>0</td>\n",
       "      <td>9</td>\n",
       "      <td>4</td>\n",
       "      <td>8</td>\n",
       "    </tr>\n",
       "    <tr>\n",
       "      <th>3</th>\n",
       "      <td>0</td>\n",
       "      <td>1</td>\n",
       "      <td>0</td>\n",
       "      <td>1</td>\n",
       "      <td>27</td>\n",
       "      <td>0</td>\n",
       "      <td>0</td>\n",
       "      <td>0</td>\n",
       "      <td>1</td>\n",
       "      <td>1</td>\n",
       "      <td>...</td>\n",
       "      <td>1</td>\n",
       "      <td>0</td>\n",
       "      <td>2</td>\n",
       "      <td>0</td>\n",
       "      <td>0</td>\n",
       "      <td>0</td>\n",
       "      <td>0</td>\n",
       "      <td>11</td>\n",
       "      <td>3</td>\n",
       "      <td>6</td>\n",
       "    </tr>\n",
       "    <tr>\n",
       "      <th>4</th>\n",
       "      <td>0</td>\n",
       "      <td>1</td>\n",
       "      <td>1</td>\n",
       "      <td>1</td>\n",
       "      <td>24</td>\n",
       "      <td>0</td>\n",
       "      <td>0</td>\n",
       "      <td>0</td>\n",
       "      <td>1</td>\n",
       "      <td>1</td>\n",
       "      <td>...</td>\n",
       "      <td>1</td>\n",
       "      <td>0</td>\n",
       "      <td>2</td>\n",
       "      <td>3</td>\n",
       "      <td>0</td>\n",
       "      <td>0</td>\n",
       "      <td>0</td>\n",
       "      <td>11</td>\n",
       "      <td>5</td>\n",
       "      <td>4</td>\n",
       "    </tr>\n",
       "  </tbody>\n",
       "</table>\n",
       "<p>5 rows × 22 columns</p>\n",
       "</div>"
      ],
      "text/plain": [
       "   diabetes  pressao_alta  colesterol_alto  testou_colesterol  IMC  fumante  \\\n",
       "0         0             1                1                  1   40        1   \n",
       "1         0             0                0                  0   25        1   \n",
       "2         0             1                1                  1   28        0   \n",
       "3         0             1                0                  1   27        0   \n",
       "4         0             1                1                  1   24        0   \n",
       "\n",
       "   AVC  ataque_cardiaco  ativ_fisica  consome_frutas  ...  seguro_saude  \\\n",
       "0    0                0            0               0  ...             1   \n",
       "1    0                0            1               0  ...             0   \n",
       "2    0                0            0               1  ...             1   \n",
       "3    0                0            1               1  ...             1   \n",
       "4    0                0            1               1  ...             1   \n",
       "\n",
       "   n_foi_med_custo  auto_aval_saude  saude_mental  saude_fisica  dif_escadas  \\\n",
       "0                0                5            18            15            1   \n",
       "1                1                3             0             0            0   \n",
       "2                1                5            30            30            1   \n",
       "3                0                2             0             0            0   \n",
       "4                0                2             3             0            0   \n",
       "\n",
       "   sexo  class_idade  class_educ  class_renda  \n",
       "0     0            9           4            3  \n",
       "1     0            7           6            1  \n",
       "2     0            9           4            8  \n",
       "3     0           11           3            6  \n",
       "4     0           11           5            4  \n",
       "\n",
       "[5 rows x 22 columns]"
      ]
     },
     "execution_count": 3,
     "metadata": {},
     "output_type": "execute_result"
    }
   ],
   "source": [
    "my_df = pd.read_parquet(pRaiz + '/2_Dados/Modelagem.parquet.gzip', engine='pyarrow')\n",
    "my_df.head()"
   ]
  },
  {
   "cell_type": "code",
   "execution_count": null,
   "id": "8a673a4c",
   "metadata": {
    "colab": {
     "base_uri": "https://localhost:8080/"
    },
    "executionInfo": {
     "elapsed": 40,
     "status": "ok",
     "timestamp": 1648232786336,
     "user": {
      "displayName": "Eduardo Moura",
      "photoUrl": "https://lh3.googleusercontent.com/a-/AOh14GjbRENwmFbXh90kjNincbnD6Wle8bbYiPn8ZTE2mQ=s64",
      "userId": "17583025802959502448"
     },
     "user_tz": 180
    },
    "id": "8a673a4c",
    "outputId": "b735d493-9251-44e6-ec32-6f3ed1675486"
   },
   "outputs": [
    {
     "data": {
      "text/plain": [
       "Index(['diabetes', 'pressao_alta', 'colesterol_alto', 'testou_colesterol',\n",
       "       'IMC', 'fumante', 'AVC', 'ataque_cardiaco', 'ativ_fisica',\n",
       "       'consome_frutas', 'consome_vegetais', 'consumo_alcool', 'seguro_saude',\n",
       "       'n_foi_med_custo', 'auto_aval_saude', 'saude_mental', 'saude_fisica',\n",
       "       'dif_escadas', 'sexo', 'class_idade', 'class_educ', 'class_renda'],\n",
       "      dtype='object')"
      ]
     },
     "execution_count": 4,
     "metadata": {},
     "output_type": "execute_result"
    }
   ],
   "source": [
    "my_df.columns"
   ]
  },
  {
   "cell_type": "code",
   "execution_count": null,
   "id": "dUPMJ2sqydlR",
   "metadata": {
    "id": "dUPMJ2sqydlR"
   },
   "outputs": [],
   "source": [
    "# # poucos se considerm  totalmente saudável sabendo que tem diabetes ne\n",
    "# # muitos consideram a saúde no mínimo ok, então a base é desbalanceada\n",
    "# pd.crosstab(index = my_df['diabetes'],columns = my_df['auto_aval_saude'], normalize = 'index')"
   ]
  },
  {
   "cell_type": "code",
   "execution_count": null,
   "id": "00a9359d",
   "metadata": {
    "id": "00a9359d"
   },
   "outputs": [],
   "source": [
    "my_df = my_df[['pressao_alta', 'colesterol_alto',\n",
    "       'IMC', 'fumante', 'ataque_cardiaco', 'ativ_fisica',\n",
    "       'consome_frutas', 'consome_vegetais', 'consumo_alcool', 'auto_aval_saude', 'saude_fisica',\n",
    "       'dif_escadas', 'sexo','diabetes']]"
   ]
  },
  {
   "cell_type": "code",
   "execution_count": null,
   "id": "34c24a58",
   "metadata": {
    "colab": {
     "base_uri": "https://localhost:8080/",
     "height": 270
    },
    "executionInfo": {
     "elapsed": 440,
     "status": "ok",
     "timestamp": 1648232786752,
     "user": {
      "displayName": "Eduardo Moura",
      "photoUrl": "https://lh3.googleusercontent.com/a-/AOh14GjbRENwmFbXh90kjNincbnD6Wle8bbYiPn8ZTE2mQ=s64",
      "userId": "17583025802959502448"
     },
     "user_tz": 180
    },
    "id": "34c24a58",
    "outputId": "76fe73a5-437b-43d1-c05c-d936c2b3be41"
   },
   "outputs": [
    {
     "data": {
      "text/html": [
       "\n",
       "  <div id=\"df-8bf9bc62-672b-441f-a4c0-40e18880f406\">\n",
       "    <div class=\"colab-df-container\">\n",
       "      <div>\n",
       "<style scoped>\n",
       "    .dataframe tbody tr th:only-of-type {\n",
       "        vertical-align: middle;\n",
       "    }\n",
       "\n",
       "    .dataframe tbody tr th {\n",
       "        vertical-align: top;\n",
       "    }\n",
       "\n",
       "    .dataframe thead th {\n",
       "        text-align: right;\n",
       "    }\n",
       "</style>\n",
       "<table border=\"1\" class=\"dataframe\">\n",
       "  <thead>\n",
       "    <tr style=\"text-align: right;\">\n",
       "      <th></th>\n",
       "      <th>pressao_alta</th>\n",
       "      <th>colesterol_alto</th>\n",
       "      <th>IMC</th>\n",
       "      <th>fumante</th>\n",
       "      <th>ataque_cardiaco</th>\n",
       "      <th>ativ_fisica</th>\n",
       "      <th>consome_frutas</th>\n",
       "      <th>consome_vegetais</th>\n",
       "      <th>consumo_alcool</th>\n",
       "      <th>auto_aval_saude</th>\n",
       "      <th>saude_fisica</th>\n",
       "      <th>dif_escadas</th>\n",
       "      <th>sexo</th>\n",
       "      <th>diabetes</th>\n",
       "    </tr>\n",
       "  </thead>\n",
       "  <tbody>\n",
       "    <tr>\n",
       "      <th>0</th>\n",
       "      <td>1</td>\n",
       "      <td>1</td>\n",
       "      <td>40</td>\n",
       "      <td>1</td>\n",
       "      <td>0</td>\n",
       "      <td>0</td>\n",
       "      <td>0</td>\n",
       "      <td>1</td>\n",
       "      <td>0</td>\n",
       "      <td>5</td>\n",
       "      <td>15</td>\n",
       "      <td>1</td>\n",
       "      <td>0</td>\n",
       "      <td>0</td>\n",
       "    </tr>\n",
       "    <tr>\n",
       "      <th>1</th>\n",
       "      <td>0</td>\n",
       "      <td>0</td>\n",
       "      <td>25</td>\n",
       "      <td>1</td>\n",
       "      <td>0</td>\n",
       "      <td>1</td>\n",
       "      <td>0</td>\n",
       "      <td>0</td>\n",
       "      <td>0</td>\n",
       "      <td>3</td>\n",
       "      <td>0</td>\n",
       "      <td>0</td>\n",
       "      <td>0</td>\n",
       "      <td>0</td>\n",
       "    </tr>\n",
       "    <tr>\n",
       "      <th>2</th>\n",
       "      <td>1</td>\n",
       "      <td>1</td>\n",
       "      <td>28</td>\n",
       "      <td>0</td>\n",
       "      <td>0</td>\n",
       "      <td>0</td>\n",
       "      <td>1</td>\n",
       "      <td>0</td>\n",
       "      <td>0</td>\n",
       "      <td>5</td>\n",
       "      <td>30</td>\n",
       "      <td>1</td>\n",
       "      <td>0</td>\n",
       "      <td>0</td>\n",
       "    </tr>\n",
       "    <tr>\n",
       "      <th>3</th>\n",
       "      <td>1</td>\n",
       "      <td>0</td>\n",
       "      <td>27</td>\n",
       "      <td>0</td>\n",
       "      <td>0</td>\n",
       "      <td>1</td>\n",
       "      <td>1</td>\n",
       "      <td>1</td>\n",
       "      <td>0</td>\n",
       "      <td>2</td>\n",
       "      <td>0</td>\n",
       "      <td>0</td>\n",
       "      <td>0</td>\n",
       "      <td>0</td>\n",
       "    </tr>\n",
       "    <tr>\n",
       "      <th>4</th>\n",
       "      <td>1</td>\n",
       "      <td>1</td>\n",
       "      <td>24</td>\n",
       "      <td>0</td>\n",
       "      <td>0</td>\n",
       "      <td>1</td>\n",
       "      <td>1</td>\n",
       "      <td>1</td>\n",
       "      <td>0</td>\n",
       "      <td>2</td>\n",
       "      <td>0</td>\n",
       "      <td>0</td>\n",
       "      <td>0</td>\n",
       "      <td>0</td>\n",
       "    </tr>\n",
       "  </tbody>\n",
       "</table>\n",
       "</div>\n",
       "      <button class=\"colab-df-convert\" onclick=\"convertToInteractive('df-8bf9bc62-672b-441f-a4c0-40e18880f406')\"\n",
       "              title=\"Convert this dataframe to an interactive table.\"\n",
       "              style=\"display:none;\">\n",
       "        \n",
       "  <svg xmlns=\"http://www.w3.org/2000/svg\" height=\"24px\"viewBox=\"0 0 24 24\"\n",
       "       width=\"24px\">\n",
       "    <path d=\"M0 0h24v24H0V0z\" fill=\"none\"/>\n",
       "    <path d=\"M18.56 5.44l.94 2.06.94-2.06 2.06-.94-2.06-.94-.94-2.06-.94 2.06-2.06.94zm-11 1L8.5 8.5l.94-2.06 2.06-.94-2.06-.94L8.5 2.5l-.94 2.06-2.06.94zm10 10l.94 2.06.94-2.06 2.06-.94-2.06-.94-.94-2.06-.94 2.06-2.06.94z\"/><path d=\"M17.41 7.96l-1.37-1.37c-.4-.4-.92-.59-1.43-.59-.52 0-1.04.2-1.43.59L10.3 9.45l-7.72 7.72c-.78.78-.78 2.05 0 2.83L4 21.41c.39.39.9.59 1.41.59.51 0 1.02-.2 1.41-.59l7.78-7.78 2.81-2.81c.8-.78.8-2.07 0-2.86zM5.41 20L4 18.59l7.72-7.72 1.47 1.35L5.41 20z\"/>\n",
       "  </svg>\n",
       "      </button>\n",
       "      \n",
       "  <style>\n",
       "    .colab-df-container {\n",
       "      display:flex;\n",
       "      flex-wrap:wrap;\n",
       "      gap: 12px;\n",
       "    }\n",
       "\n",
       "    .colab-df-convert {\n",
       "      background-color: #E8F0FE;\n",
       "      border: none;\n",
       "      border-radius: 50%;\n",
       "      cursor: pointer;\n",
       "      display: none;\n",
       "      fill: #1967D2;\n",
       "      height: 32px;\n",
       "      padding: 0 0 0 0;\n",
       "      width: 32px;\n",
       "    }\n",
       "\n",
       "    .colab-df-convert:hover {\n",
       "      background-color: #E2EBFA;\n",
       "      box-shadow: 0px 1px 2px rgba(60, 64, 67, 0.3), 0px 1px 3px 1px rgba(60, 64, 67, 0.15);\n",
       "      fill: #174EA6;\n",
       "    }\n",
       "\n",
       "    [theme=dark] .colab-df-convert {\n",
       "      background-color: #3B4455;\n",
       "      fill: #D2E3FC;\n",
       "    }\n",
       "\n",
       "    [theme=dark] .colab-df-convert:hover {\n",
       "      background-color: #434B5C;\n",
       "      box-shadow: 0px 1px 3px 1px rgba(0, 0, 0, 0.15);\n",
       "      filter: drop-shadow(0px 1px 2px rgba(0, 0, 0, 0.3));\n",
       "      fill: #FFFFFF;\n",
       "    }\n",
       "  </style>\n",
       "\n",
       "      <script>\n",
       "        const buttonEl =\n",
       "          document.querySelector('#df-8bf9bc62-672b-441f-a4c0-40e18880f406 button.colab-df-convert');\n",
       "        buttonEl.style.display =\n",
       "          google.colab.kernel.accessAllowed ? 'block' : 'none';\n",
       "\n",
       "        async function convertToInteractive(key) {\n",
       "          const element = document.querySelector('#df-8bf9bc62-672b-441f-a4c0-40e18880f406');\n",
       "          const dataTable =\n",
       "            await google.colab.kernel.invokeFunction('convertToInteractive',\n",
       "                                                     [key], {});\n",
       "          if (!dataTable) return;\n",
       "\n",
       "          const docLinkHtml = 'Like what you see? Visit the ' +\n",
       "            '<a target=\"_blank\" href=https://colab.research.google.com/notebooks/data_table.ipynb>data table notebook</a>'\n",
       "            + ' to learn more about interactive tables.';\n",
       "          element.innerHTML = '';\n",
       "          dataTable['output_type'] = 'display_data';\n",
       "          await google.colab.output.renderOutput(dataTable, element);\n",
       "          const docLink = document.createElement('div');\n",
       "          docLink.innerHTML = docLinkHtml;\n",
       "          element.appendChild(docLink);\n",
       "        }\n",
       "      </script>\n",
       "    </div>\n",
       "  </div>\n",
       "  "
      ],
      "text/plain": [
       "   pressao_alta  colesterol_alto  IMC  fumante  ataque_cardiaco  ativ_fisica  \\\n",
       "0             1                1   40        1                0            0   \n",
       "1             0                0   25        1                0            1   \n",
       "2             1                1   28        0                0            0   \n",
       "3             1                0   27        0                0            1   \n",
       "4             1                1   24        0                0            1   \n",
       "\n",
       "   consome_frutas  consome_vegetais  consumo_alcool  auto_aval_saude  \\\n",
       "0               0                 1               0                5   \n",
       "1               0                 0               0                3   \n",
       "2               1                 0               0                5   \n",
       "3               1                 1               0                2   \n",
       "4               1                 1               0                2   \n",
       "\n",
       "   saude_fisica  dif_escadas  sexo  diabetes  \n",
       "0            15            1     0         0  \n",
       "1             0            0     0         0  \n",
       "2            30            1     0         0  \n",
       "3             0            0     0         0  \n",
       "4             0            0     0         0  "
      ]
     },
     "execution_count": 7,
     "metadata": {},
     "output_type": "execute_result"
    }
   ],
   "source": [
    "my_df.head(5)"
   ]
  },
  {
   "cell_type": "code",
   "execution_count": null,
   "id": "b95cff4c",
   "metadata": {
    "colab": {
     "base_uri": "https://localhost:8080/"
    },
    "executionInfo": {
     "elapsed": 46,
     "status": "ok",
     "timestamp": 1648232786762,
     "user": {
      "displayName": "Eduardo Moura",
      "photoUrl": "https://lh3.googleusercontent.com/a-/AOh14GjbRENwmFbXh90kjNincbnD6Wle8bbYiPn8ZTE2mQ=s64",
      "userId": "17583025802959502448"
     },
     "user_tz": 180
    },
    "id": "b95cff4c",
    "outputId": "78363754-14ae-48bd-ca01-c6f7db351ce4"
   },
   "outputs": [
    {
     "name": "stdout",
     "output_type": "stream",
     "text": [
      "<class 'pandas.core.frame.DataFrame'>\n",
      "RangeIndex: 253680 entries, 0 to 253679\n",
      "Data columns (total 14 columns):\n",
      " #   Column            Non-Null Count   Dtype\n",
      "---  ------            --------------   -----\n",
      " 0   pressao_alta      253680 non-null  int64\n",
      " 1   colesterol_alto   253680 non-null  int64\n",
      " 2   IMC               253680 non-null  int64\n",
      " 3   fumante           253680 non-null  int64\n",
      " 4   ataque_cardiaco   253680 non-null  int64\n",
      " 5   ativ_fisica       253680 non-null  int64\n",
      " 6   consome_frutas    253680 non-null  int64\n",
      " 7   consome_vegetais  253680 non-null  int64\n",
      " 8   consumo_alcool    253680 non-null  int64\n",
      " 9   auto_aval_saude   253680 non-null  int64\n",
      " 10  saude_fisica      253680 non-null  int64\n",
      " 11  dif_escadas       253680 non-null  int64\n",
      " 12  sexo              253680 non-null  int64\n",
      " 13  diabetes          253680 non-null  int64\n",
      "dtypes: int64(14)\n",
      "memory usage: 27.1 MB\n"
     ]
    }
   ],
   "source": [
    "my_df.info()"
   ]
  },
  {
   "cell_type": "markdown",
   "id": "DB5poZQX1LF3",
   "metadata": {
    "id": "DB5poZQX1LF3"
   },
   "source": [
    "#Separando os dados"
   ]
  },
  {
   "cell_type": "code",
   "execution_count": null,
   "id": "VEfNyAiy1Q9z",
   "metadata": {
    "id": "VEfNyAiy1Q9z"
   },
   "outputs": [],
   "source": [
    "target_name = 'diabetes'\n",
    "X = my_df.drop('diabetes', axis=1)\n",
    "y = my_df[target_name]"
   ]
  },
  {
   "cell_type": "code",
   "execution_count": null,
   "id": "CzCmTTyz1gRA",
   "metadata": {
    "colab": {
     "base_uri": "https://localhost:8080/",
     "height": 488
    },
    "executionInfo": {
     "elapsed": 39,
     "status": "ok",
     "timestamp": 1648232786765,
     "user": {
      "displayName": "Eduardo Moura",
      "photoUrl": "https://lh3.googleusercontent.com/a-/AOh14GjbRENwmFbXh90kjNincbnD6Wle8bbYiPn8ZTE2mQ=s64",
      "userId": "17583025802959502448"
     },
     "user_tz": 180
    },
    "id": "CzCmTTyz1gRA",
    "outputId": "a2429cc5-3f79-4ae0-d953-7c4a6cdfc9f9"
   },
   "outputs": [
    {
     "data": {
      "text/html": [
       "\n",
       "  <div id=\"df-b89c259c-cd11-463d-aca9-a50cbd099f09\">\n",
       "    <div class=\"colab-df-container\">\n",
       "      <div>\n",
       "<style scoped>\n",
       "    .dataframe tbody tr th:only-of-type {\n",
       "        vertical-align: middle;\n",
       "    }\n",
       "\n",
       "    .dataframe tbody tr th {\n",
       "        vertical-align: top;\n",
       "    }\n",
       "\n",
       "    .dataframe thead th {\n",
       "        text-align: right;\n",
       "    }\n",
       "</style>\n",
       "<table border=\"1\" class=\"dataframe\">\n",
       "  <thead>\n",
       "    <tr style=\"text-align: right;\">\n",
       "      <th></th>\n",
       "      <th>pressao_alta</th>\n",
       "      <th>colesterol_alto</th>\n",
       "      <th>IMC</th>\n",
       "      <th>fumante</th>\n",
       "      <th>ataque_cardiaco</th>\n",
       "      <th>ativ_fisica</th>\n",
       "      <th>consome_frutas</th>\n",
       "      <th>consome_vegetais</th>\n",
       "      <th>consumo_alcool</th>\n",
       "      <th>auto_aval_saude</th>\n",
       "      <th>saude_fisica</th>\n",
       "      <th>dif_escadas</th>\n",
       "      <th>sexo</th>\n",
       "    </tr>\n",
       "  </thead>\n",
       "  <tbody>\n",
       "    <tr>\n",
       "      <th>0</th>\n",
       "      <td>1</td>\n",
       "      <td>1</td>\n",
       "      <td>40</td>\n",
       "      <td>1</td>\n",
       "      <td>0</td>\n",
       "      <td>0</td>\n",
       "      <td>0</td>\n",
       "      <td>1</td>\n",
       "      <td>0</td>\n",
       "      <td>5</td>\n",
       "      <td>15</td>\n",
       "      <td>1</td>\n",
       "      <td>0</td>\n",
       "    </tr>\n",
       "    <tr>\n",
       "      <th>1</th>\n",
       "      <td>0</td>\n",
       "      <td>0</td>\n",
       "      <td>25</td>\n",
       "      <td>1</td>\n",
       "      <td>0</td>\n",
       "      <td>1</td>\n",
       "      <td>0</td>\n",
       "      <td>0</td>\n",
       "      <td>0</td>\n",
       "      <td>3</td>\n",
       "      <td>0</td>\n",
       "      <td>0</td>\n",
       "      <td>0</td>\n",
       "    </tr>\n",
       "    <tr>\n",
       "      <th>2</th>\n",
       "      <td>1</td>\n",
       "      <td>1</td>\n",
       "      <td>28</td>\n",
       "      <td>0</td>\n",
       "      <td>0</td>\n",
       "      <td>0</td>\n",
       "      <td>1</td>\n",
       "      <td>0</td>\n",
       "      <td>0</td>\n",
       "      <td>5</td>\n",
       "      <td>30</td>\n",
       "      <td>1</td>\n",
       "      <td>0</td>\n",
       "    </tr>\n",
       "    <tr>\n",
       "      <th>3</th>\n",
       "      <td>1</td>\n",
       "      <td>0</td>\n",
       "      <td>27</td>\n",
       "      <td>0</td>\n",
       "      <td>0</td>\n",
       "      <td>1</td>\n",
       "      <td>1</td>\n",
       "      <td>1</td>\n",
       "      <td>0</td>\n",
       "      <td>2</td>\n",
       "      <td>0</td>\n",
       "      <td>0</td>\n",
       "      <td>0</td>\n",
       "    </tr>\n",
       "    <tr>\n",
       "      <th>4</th>\n",
       "      <td>1</td>\n",
       "      <td>1</td>\n",
       "      <td>24</td>\n",
       "      <td>0</td>\n",
       "      <td>0</td>\n",
       "      <td>1</td>\n",
       "      <td>1</td>\n",
       "      <td>1</td>\n",
       "      <td>0</td>\n",
       "      <td>2</td>\n",
       "      <td>0</td>\n",
       "      <td>0</td>\n",
       "      <td>0</td>\n",
       "    </tr>\n",
       "    <tr>\n",
       "      <th>...</th>\n",
       "      <td>...</td>\n",
       "      <td>...</td>\n",
       "      <td>...</td>\n",
       "      <td>...</td>\n",
       "      <td>...</td>\n",
       "      <td>...</td>\n",
       "      <td>...</td>\n",
       "      <td>...</td>\n",
       "      <td>...</td>\n",
       "      <td>...</td>\n",
       "      <td>...</td>\n",
       "      <td>...</td>\n",
       "      <td>...</td>\n",
       "    </tr>\n",
       "    <tr>\n",
       "      <th>253675</th>\n",
       "      <td>1</td>\n",
       "      <td>1</td>\n",
       "      <td>45</td>\n",
       "      <td>0</td>\n",
       "      <td>0</td>\n",
       "      <td>0</td>\n",
       "      <td>1</td>\n",
       "      <td>1</td>\n",
       "      <td>0</td>\n",
       "      <td>3</td>\n",
       "      <td>5</td>\n",
       "      <td>0</td>\n",
       "      <td>1</td>\n",
       "    </tr>\n",
       "    <tr>\n",
       "      <th>253676</th>\n",
       "      <td>1</td>\n",
       "      <td>1</td>\n",
       "      <td>18</td>\n",
       "      <td>0</td>\n",
       "      <td>0</td>\n",
       "      <td>0</td>\n",
       "      <td>0</td>\n",
       "      <td>0</td>\n",
       "      <td>0</td>\n",
       "      <td>4</td>\n",
       "      <td>0</td>\n",
       "      <td>1</td>\n",
       "      <td>0</td>\n",
       "    </tr>\n",
       "    <tr>\n",
       "      <th>253677</th>\n",
       "      <td>0</td>\n",
       "      <td>0</td>\n",
       "      <td>28</td>\n",
       "      <td>0</td>\n",
       "      <td>0</td>\n",
       "      <td>1</td>\n",
       "      <td>1</td>\n",
       "      <td>0</td>\n",
       "      <td>0</td>\n",
       "      <td>1</td>\n",
       "      <td>0</td>\n",
       "      <td>0</td>\n",
       "      <td>0</td>\n",
       "    </tr>\n",
       "    <tr>\n",
       "      <th>253678</th>\n",
       "      <td>1</td>\n",
       "      <td>0</td>\n",
       "      <td>23</td>\n",
       "      <td>0</td>\n",
       "      <td>0</td>\n",
       "      <td>0</td>\n",
       "      <td>1</td>\n",
       "      <td>1</td>\n",
       "      <td>0</td>\n",
       "      <td>3</td>\n",
       "      <td>0</td>\n",
       "      <td>0</td>\n",
       "      <td>1</td>\n",
       "    </tr>\n",
       "    <tr>\n",
       "      <th>253679</th>\n",
       "      <td>1</td>\n",
       "      <td>1</td>\n",
       "      <td>25</td>\n",
       "      <td>0</td>\n",
       "      <td>1</td>\n",
       "      <td>1</td>\n",
       "      <td>1</td>\n",
       "      <td>0</td>\n",
       "      <td>0</td>\n",
       "      <td>2</td>\n",
       "      <td>0</td>\n",
       "      <td>0</td>\n",
       "      <td>0</td>\n",
       "    </tr>\n",
       "  </tbody>\n",
       "</table>\n",
       "<p>253680 rows × 13 columns</p>\n",
       "</div>\n",
       "      <button class=\"colab-df-convert\" onclick=\"convertToInteractive('df-b89c259c-cd11-463d-aca9-a50cbd099f09')\"\n",
       "              title=\"Convert this dataframe to an interactive table.\"\n",
       "              style=\"display:none;\">\n",
       "        \n",
       "  <svg xmlns=\"http://www.w3.org/2000/svg\" height=\"24px\"viewBox=\"0 0 24 24\"\n",
       "       width=\"24px\">\n",
       "    <path d=\"M0 0h24v24H0V0z\" fill=\"none\"/>\n",
       "    <path d=\"M18.56 5.44l.94 2.06.94-2.06 2.06-.94-2.06-.94-.94-2.06-.94 2.06-2.06.94zm-11 1L8.5 8.5l.94-2.06 2.06-.94-2.06-.94L8.5 2.5l-.94 2.06-2.06.94zm10 10l.94 2.06.94-2.06 2.06-.94-2.06-.94-.94-2.06-.94 2.06-2.06.94z\"/><path d=\"M17.41 7.96l-1.37-1.37c-.4-.4-.92-.59-1.43-.59-.52 0-1.04.2-1.43.59L10.3 9.45l-7.72 7.72c-.78.78-.78 2.05 0 2.83L4 21.41c.39.39.9.59 1.41.59.51 0 1.02-.2 1.41-.59l7.78-7.78 2.81-2.81c.8-.78.8-2.07 0-2.86zM5.41 20L4 18.59l7.72-7.72 1.47 1.35L5.41 20z\"/>\n",
       "  </svg>\n",
       "      </button>\n",
       "      \n",
       "  <style>\n",
       "    .colab-df-container {\n",
       "      display:flex;\n",
       "      flex-wrap:wrap;\n",
       "      gap: 12px;\n",
       "    }\n",
       "\n",
       "    .colab-df-convert {\n",
       "      background-color: #E8F0FE;\n",
       "      border: none;\n",
       "      border-radius: 50%;\n",
       "      cursor: pointer;\n",
       "      display: none;\n",
       "      fill: #1967D2;\n",
       "      height: 32px;\n",
       "      padding: 0 0 0 0;\n",
       "      width: 32px;\n",
       "    }\n",
       "\n",
       "    .colab-df-convert:hover {\n",
       "      background-color: #E2EBFA;\n",
       "      box-shadow: 0px 1px 2px rgba(60, 64, 67, 0.3), 0px 1px 3px 1px rgba(60, 64, 67, 0.15);\n",
       "      fill: #174EA6;\n",
       "    }\n",
       "\n",
       "    [theme=dark] .colab-df-convert {\n",
       "      background-color: #3B4455;\n",
       "      fill: #D2E3FC;\n",
       "    }\n",
       "\n",
       "    [theme=dark] .colab-df-convert:hover {\n",
       "      background-color: #434B5C;\n",
       "      box-shadow: 0px 1px 3px 1px rgba(0, 0, 0, 0.15);\n",
       "      filter: drop-shadow(0px 1px 2px rgba(0, 0, 0, 0.3));\n",
       "      fill: #FFFFFF;\n",
       "    }\n",
       "  </style>\n",
       "\n",
       "      <script>\n",
       "        const buttonEl =\n",
       "          document.querySelector('#df-b89c259c-cd11-463d-aca9-a50cbd099f09 button.colab-df-convert');\n",
       "        buttonEl.style.display =\n",
       "          google.colab.kernel.accessAllowed ? 'block' : 'none';\n",
       "\n",
       "        async function convertToInteractive(key) {\n",
       "          const element = document.querySelector('#df-b89c259c-cd11-463d-aca9-a50cbd099f09');\n",
       "          const dataTable =\n",
       "            await google.colab.kernel.invokeFunction('convertToInteractive',\n",
       "                                                     [key], {});\n",
       "          if (!dataTable) return;\n",
       "\n",
       "          const docLinkHtml = 'Like what you see? Visit the ' +\n",
       "            '<a target=\"_blank\" href=https://colab.research.google.com/notebooks/data_table.ipynb>data table notebook</a>'\n",
       "            + ' to learn more about interactive tables.';\n",
       "          element.innerHTML = '';\n",
       "          dataTable['output_type'] = 'display_data';\n",
       "          await google.colab.output.renderOutput(dataTable, element);\n",
       "          const docLink = document.createElement('div');\n",
       "          docLink.innerHTML = docLinkHtml;\n",
       "          element.appendChild(docLink);\n",
       "        }\n",
       "      </script>\n",
       "    </div>\n",
       "  </div>\n",
       "  "
      ],
      "text/plain": [
       "        pressao_alta  colesterol_alto  IMC  fumante  ataque_cardiaco  \\\n",
       "0                  1                1   40        1                0   \n",
       "1                  0                0   25        1                0   \n",
       "2                  1                1   28        0                0   \n",
       "3                  1                0   27        0                0   \n",
       "4                  1                1   24        0                0   \n",
       "...              ...              ...  ...      ...              ...   \n",
       "253675             1                1   45        0                0   \n",
       "253676             1                1   18        0                0   \n",
       "253677             0                0   28        0                0   \n",
       "253678             1                0   23        0                0   \n",
       "253679             1                1   25        0                1   \n",
       "\n",
       "        ativ_fisica  consome_frutas  consome_vegetais  consumo_alcool  \\\n",
       "0                 0               0                 1               0   \n",
       "1                 1               0                 0               0   \n",
       "2                 0               1                 0               0   \n",
       "3                 1               1                 1               0   \n",
       "4                 1               1                 1               0   \n",
       "...             ...             ...               ...             ...   \n",
       "253675            0               1                 1               0   \n",
       "253676            0               0                 0               0   \n",
       "253677            1               1                 0               0   \n",
       "253678            0               1                 1               0   \n",
       "253679            1               1                 0               0   \n",
       "\n",
       "        auto_aval_saude  saude_fisica  dif_escadas  sexo  \n",
       "0                     5            15            1     0  \n",
       "1                     3             0            0     0  \n",
       "2                     5            30            1     0  \n",
       "3                     2             0            0     0  \n",
       "4                     2             0            0     0  \n",
       "...                 ...           ...          ...   ...  \n",
       "253675                3             5            0     1  \n",
       "253676                4             0            1     0  \n",
       "253677                1             0            0     0  \n",
       "253678                3             0            0     1  \n",
       "253679                2             0            0     0  \n",
       "\n",
       "[253680 rows x 13 columns]"
      ]
     },
     "execution_count": 10,
     "metadata": {},
     "output_type": "execute_result"
    }
   ],
   "source": [
    "X"
   ]
  },
  {
   "cell_type": "code",
   "execution_count": null,
   "id": "ktcRH9Df1oHJ",
   "metadata": {
    "colab": {
     "base_uri": "https://localhost:8080/"
    },
    "executionInfo": {
     "elapsed": 40,
     "status": "ok",
     "timestamp": 1648232786770,
     "user": {
      "displayName": "Eduardo Moura",
      "photoUrl": "https://lh3.googleusercontent.com/a-/AOh14GjbRENwmFbXh90kjNincbnD6Wle8bbYiPn8ZTE2mQ=s64",
      "userId": "17583025802959502448"
     },
     "user_tz": 180
    },
    "id": "ktcRH9Df1oHJ",
    "outputId": "39e38258-1c43-413b-a593-93e109879694"
   },
   "outputs": [
    {
     "data": {
      "text/plain": [
       "0         0\n",
       "1         0\n",
       "2         0\n",
       "3         0\n",
       "4         0\n",
       "         ..\n",
       "253675    0\n",
       "253676    1\n",
       "253677    0\n",
       "253678    0\n",
       "253679    1\n",
       "Name: diabetes, Length: 253680, dtype: int64"
      ]
     },
     "execution_count": 11,
     "metadata": {},
     "output_type": "execute_result"
    }
   ],
   "source": [
    "y"
   ]
  },
  {
   "cell_type": "markdown",
   "id": "u8ezHbgC03cG",
   "metadata": {
    "id": "u8ezHbgC03cG"
   },
   "source": [
    "#Transformando os dados."
   ]
  },
  {
   "cell_type": "code",
   "execution_count": null,
   "id": "jXLz9WBa095_",
   "metadata": {
    "id": "jXLz9WBa095_"
   },
   "outputs": [],
   "source": [
    "from sklearn.preprocessing import MinMaxScaler"
   ]
  },
  {
   "cell_type": "code",
   "execution_count": null,
   "id": "s6aD4Oc_1CVv",
   "metadata": {
    "id": "s6aD4Oc_1CVv"
   },
   "outputs": [],
   "source": [
    "scaler = MinMaxScaler()"
   ]
  },
  {
   "cell_type": "code",
   "execution_count": null,
   "id": "UdS1Xl5o18-9",
   "metadata": {
    "colab": {
     "base_uri": "https://localhost:8080/"
    },
    "executionInfo": {
     "elapsed": 26,
     "status": "ok",
     "timestamp": 1648232787810,
     "user": {
      "displayName": "Eduardo Moura",
      "photoUrl": "https://lh3.googleusercontent.com/a-/AOh14GjbRENwmFbXh90kjNincbnD6Wle8bbYiPn8ZTE2mQ=s64",
      "userId": "17583025802959502448"
     },
     "user_tz": 180
    },
    "id": "UdS1Xl5o18-9",
    "outputId": "3775d28b-b354-4f6f-ca69-0b7d8459aa1a"
   },
   "outputs": [
    {
     "data": {
      "text/plain": [
       "array([[1.        , 1.        , 0.3255814 , ..., 0.5       , 1.        ,\n",
       "        0.        ],\n",
       "       [0.        , 0.        , 0.15116279, ..., 0.        , 0.        ,\n",
       "        0.        ],\n",
       "       [1.        , 1.        , 0.18604651, ..., 1.        , 1.        ,\n",
       "        0.        ],\n",
       "       ...,\n",
       "       [0.        , 0.        , 0.18604651, ..., 0.        , 0.        ,\n",
       "        0.        ],\n",
       "       [1.        , 0.        , 0.12790698, ..., 0.        , 0.        ,\n",
       "        1.        ],\n",
       "       [1.        , 1.        , 0.15116279, ..., 0.        , 0.        ,\n",
       "        0.        ]])"
      ]
     },
     "execution_count": 14,
     "metadata": {},
     "output_type": "execute_result"
    }
   ],
   "source": [
    "X = scaler.fit_transform(X)\n",
    "X"
   ]
  },
  {
   "cell_type": "code",
   "execution_count": null,
   "id": "HFEspwPpvxob",
   "metadata": {
    "id": "HFEspwPpvxob"
   },
   "outputs": [],
   "source": [
    "from sklearn.model_selection import train_test_split"
   ]
  },
  {
   "cell_type": "code",
   "execution_count": null,
   "id": "oic1gIw5wmNX",
   "metadata": {
    "id": "oic1gIw5wmNX"
   },
   "outputs": [],
   "source": [
    "X_train, X_test, y_train, y_test = train_test_split(\n",
    "        X\n",
    "       ,y\n",
    "       ,test_size = 0.2\n",
    "       ,random_state = 123\n",
    "       ,stratify = y\n",
    ")"
   ]
  },
  {
   "cell_type": "markdown",
   "id": "yOSZ7x0-xPjN",
   "metadata": {
    "id": "yOSZ7x0-xPjN"
   },
   "source": [
    "#### **Treinando o algoritmo de arvore de decisão.**"
   ]
  },
  {
   "cell_type": "code",
   "execution_count": null,
   "id": "v8wjlzIoyKPP",
   "metadata": {
    "id": "v8wjlzIoyKPP"
   },
   "outputs": [],
   "source": [
    "from sklearn.tree import DecisionTreeClassifier"
   ]
  },
  {
   "cell_type": "code",
   "execution_count": null,
   "id": "7MQ-IZLhxia-",
   "metadata": {
    "id": "7MQ-IZLhxia-"
   },
   "outputs": [],
   "source": [
    "dtree = DecisionTreeClassifier()\n",
    "dtree = dtree.fit(X_train,y_train)"
   ]
  },
  {
   "cell_type": "code",
   "execution_count": null,
   "id": "UrDiUyvZyO5v",
   "metadata": {
    "id": "UrDiUyvZyO5v"
   },
   "outputs": [],
   "source": [
    "importances = dtree.feature_importances_\n",
    "feat_names = my_df.drop(['diabetes'],axis=1).columns"
   ]
  },
  {
   "cell_type": "code",
   "execution_count": null,
   "id": "Qb0YXRySyY8r",
   "metadata": {
    "colab": {
     "base_uri": "https://localhost:8080/",
     "height": 401
    },
    "executionInfo": {
     "elapsed": 488,
     "status": "ok",
     "timestamp": 1648232789469,
     "user": {
      "displayName": "Eduardo Moura",
      "photoUrl": "https://lh3.googleusercontent.com/a-/AOh14GjbRENwmFbXh90kjNincbnD6Wle8bbYiPn8ZTE2mQ=s64",
      "userId": "17583025802959502448"
     },
     "user_tz": 180
    },
    "id": "Qb0YXRySyY8r",
    "outputId": "b2db5e7b-e041-40fb-bde4-0c28a354eafe"
   },
   "outputs": [
    {
     "data": {
      "image/png": "[encoded data removed]",
      "text/plain": [
       "<Figure size 864x288 with 1 Axes>"
      ]
     },
     "metadata": {},
     "output_type": "display_data"
    }
   ],
   "source": [
    "indices = np.argsort(importances)[::-1]\n",
    "plt.figure(figsize=(12,4))\n",
    "plt.title(\"Feature importances by DecisionTreeClassifier\")\n",
    "plt.bar(range(len(indices)), importances[indices], color='lightblue',  align=\"center\")\n",
    "plt.xticks(range(len(indices)), feat_names[indices], rotation='vertical',fontsize=14)\n",
    "plt.xlim([-1, len(indices)])\n",
    "plt.show()"
   ]
  },
  {
   "cell_type": "code",
   "execution_count": null,
   "id": "P4N60AMvzHeZ",
   "metadata": {
    "id": "P4N60AMvzHeZ"
   },
   "outputs": [],
   "source": [
    "# X = my_df[[\"IMC\",\"saude_fisica\",\"pressao_alta\",\"auto_aval_saude\"]]\n",
    "X = my_df[[\"IMC\",\"saude_fisica\",\"pressao_alta\",\"auto_aval_saude\",\"consome_frutas\",\"ativ_fisica\",\"fumante\",\"consome_vegetais\"]]"
   ]
  },
  {
   "cell_type": "code",
   "execution_count": null,
   "id": "KswmvNb6ziB9",
   "metadata": {
    "id": "KswmvNb6ziB9"
   },
   "outputs": [],
   "source": [
    "scaler = MinMaxScaler()"
   ]
  },
  {
   "cell_type": "code",
   "execution_count": null,
   "id": "iJAQrriVzl9V",
   "metadata": {
    "id": "iJAQrriVzl9V"
   },
   "outputs": [],
   "source": [
    "X = scaler.fit_transform(X)"
   ]
  },
  {
   "cell_type": "code",
   "execution_count": null,
   "id": "wMG7Xi1dzqjX",
   "metadata": {
    "id": "wMG7Xi1dzqjX"
   },
   "outputs": [],
   "source": [
    "X_train, X_test, y_train, y_test = train_test_split(\n",
    "        X\n",
    "       ,y\n",
    "       ,test_size = 0.2\n",
    "       ,random_state = 123\n",
    "       ,stratify = y\n",
    ")"
   ]
  },
  {
   "cell_type": "code",
   "execution_count": null,
   "id": "UdqQ5xVlzwsO",
   "metadata": {
    "colab": {
     "base_uri": "https://localhost:8080/"
    },
    "executionInfo": {
     "elapsed": 40,
     "status": "ok",
     "timestamp": 1648232789955,
     "user": {
      "displayName": "Eduardo Moura",
      "photoUrl": "https://lh3.googleusercontent.com/a-/AOh14GjbRENwmFbXh90kjNincbnD6Wle8bbYiPn8ZTE2mQ=s64",
      "userId": "17583025802959502448"
     },
     "user_tz": 180
    },
    "id": "UdqQ5xVlzwsO",
    "outputId": "2aa5eef9-4c4e-49fb-d149-f3165c5ff44a"
   },
   "outputs": [
    {
     "data": {
      "text/plain": [
       "array([[0.09302326, 0.46666667, 0.        , ..., 1.        , 1.        ,\n",
       "        0.        ],\n",
       "       [0.27906977, 0.16666667, 0.        , ..., 1.        , 0.        ,\n",
       "        0.        ],\n",
       "       [0.15116279, 0.13333333, 1.        , ..., 1.        , 1.        ,\n",
       "        0.        ],\n",
       "       ...,\n",
       "       [0.19767442, 0.03333333, 1.        , ..., 1.        , 0.        ,\n",
       "        1.        ],\n",
       "       [0.1627907 , 0.        , 0.        , ..., 1.        , 0.        ,\n",
       "        0.        ],\n",
       "       [0.29069767, 0.        , 0.        , ..., 1.        , 0.        ,\n",
       "        1.        ]])"
      ]
     },
     "execution_count": 25,
     "metadata": {},
     "output_type": "execute_result"
    }
   ],
   "source": [
    "X_train"
   ]
  },
  {
   "cell_type": "code",
   "execution_count": null,
   "id": "0nv510-Xz358",
   "metadata": {
    "id": "0nv510-Xz358"
   },
   "outputs": [],
   "source": [
    "def base_rate_model(X) :\n",
    "    y = np.zeros(X.shape[0])\n",
    "    return y"
   ]
  },
  {
   "cell_type": "markdown",
   "id": "YwWNULtxz7bM",
   "metadata": {
    "id": "YwWNULtxz7bM"
   },
   "source": [
    "###**Importando métodos de métrica de avaliação.**"
   ]
  },
  {
   "cell_type": "code",
   "execution_count": null,
   "id": "9pkhxzoW0BKd",
   "metadata": {
    "id": "9pkhxzoW0BKd"
   },
   "outputs": [],
   "source": [
    "from sklearn.metrics import roc_auc_score\n",
    "from sklearn.metrics import accuracy_score\n",
    "from sklearn.metrics import classification_report"
   ]
  },
  {
   "cell_type": "code",
   "execution_count": null,
   "id": "jL5fZLfS0MgB",
   "metadata": {
    "id": "jL5fZLfS0MgB"
   },
   "outputs": [],
   "source": [
    "def accuracy_result(y_test,y_predict):\n",
    "    acc = accuracy_score(y_test, y_predict)\n",
    "    print (\"Accuracy = %2.2f\" % acc)"
   ]
  },
  {
   "cell_type": "code",
   "execution_count": null,
   "id": "qXequIu20Pzp",
   "metadata": {
    "id": "qXequIu20Pzp"
   },
   "outputs": [],
   "source": [
    "def roc_classification_report_results(model,y_test,y_predict):\n",
    "    roc_ = roc_auc_score(y_test, y_predict)\n",
    "    classfication_report = classification_report(y_test, y_predict)\n",
    "    \n",
    "    print (\"\\n{} AUC = {}\\n\".format(model, roc_))\n",
    "    print(classfication_report)"
   ]
  },
  {
   "cell_type": "markdown",
   "id": "UtZy-TTs0UWd",
   "metadata": {
    "id": "UtZy-TTs0UWd"
   },
   "source": [
    "###**Análise do modelo de baseline**"
   ]
  },
  {
   "cell_type": "code",
   "execution_count": null,
   "id": "7MwCRG_b0ble",
   "metadata": {
    "id": "7MwCRG_b0ble"
   },
   "outputs": [],
   "source": [
    "y_predict = base_rate_model(X_test)"
   ]
  },
  {
   "cell_type": "code",
   "execution_count": null,
   "id": "da95UIWE0etS",
   "metadata": {
    "colab": {
     "base_uri": "https://localhost:8080/"
    },
    "executionInfo": {
     "elapsed": 36,
     "status": "ok",
     "timestamp": 1648232789963,
     "user": {
      "displayName": "Eduardo Moura",
      "photoUrl": "https://lh3.googleusercontent.com/a-/AOh14GjbRENwmFbXh90kjNincbnD6Wle8bbYiPn8ZTE2mQ=s64",
      "userId": "17583025802959502448"
     },
     "user_tz": 180
    },
    "id": "da95UIWE0etS",
    "outputId": "0848bf2a-d584-4399-a9d7-38cd04374e7a"
   },
   "outputs": [
    {
     "name": "stdout",
     "output_type": "stream",
     "text": [
      "Accuracy = 0.84\n"
     ]
    }
   ],
   "source": [
    "accuracy_result(y_test, y_predict)"
   ]
  },
  {
   "cell_type": "code",
   "execution_count": null,
   "id": "9Y4P47F30oM7",
   "metadata": {
    "colab": {
     "base_uri": "https://localhost:8080/"
    },
    "executionInfo": {
     "elapsed": 750,
     "status": "ok",
     "timestamp": 1648232790688,
     "user": {
      "displayName": "Eduardo Moura",
      "photoUrl": "https://lh3.googleusercontent.com/a-/AOh14GjbRENwmFbXh90kjNincbnD6Wle8bbYiPn8ZTE2mQ=s64",
      "userId": "17583025802959502448"
     },
     "user_tz": 180
    },
    "id": "9Y4P47F30oM7",
    "outputId": "49996806-14e9-4c9c-b5cb-526ba6884218"
   },
   "outputs": [
    {
     "name": "stdout",
     "output_type": "stream",
     "text": [
      "\n",
      "Base Model AUC = 0.5\n",
      "\n",
      "              precision    recall  f1-score   support\n",
      "\n",
      "           0       0.84      1.00      0.91     42741\n",
      "           1       0.00      0.00      0.00      7995\n",
      "\n",
      "    accuracy                           0.84     50736\n",
      "   macro avg       0.42      0.50      0.46     50736\n",
      "weighted avg       0.71      0.84      0.77     50736\n",
      "\n"
     ]
    },
    {
     "name": "stderr",
     "output_type": "stream",
     "text": [
      "/usr/local/lib/python3.7/dist-packages/sklearn/metrics/_classification.py:1221: UndefinedMetricWarning: Precision and F-score are ill-defined and being set to 0.0 in labels with no predicted samples. Use `zero_division` parameter to control this behavior.\n",
      "  _warn_prf(average, modifier, msg_start, len(result))\n"
     ]
    }
   ],
   "source": [
    "roc_classification_report_results(\"Base Model\", y_test, y_predict)"
   ]
  },
  {
   "cell_type": "markdown",
   "id": "yfilwfbe2nhm",
   "metadata": {
    "id": "yfilwfbe2nhm"
   },
   "source": [
    "### **Modelo de Regressão Logística.**"
   ]
  },
  {
   "cell_type": "markdown",
   "id": "0QOpeFS53Ctj",
   "metadata": {
    "id": "0QOpeFS53Ctj"
   },
   "source": [
    "#### **Instânciando o algoritmo.**"
   ]
  },
  {
   "cell_type": "code",
   "execution_count": null,
   "id": "LaEPeRhv3IZp",
   "metadata": {
    "id": "LaEPeRhv3IZp"
   },
   "outputs": [],
   "source": [
    "from sklearn.linear_model import LogisticRegression\n",
    "logis = LogisticRegression()"
   ]
  },
  {
   "cell_type": "markdown",
   "id": "LqhL4EWp3OuT",
   "metadata": {
    "id": "LqhL4EWp3OuT"
   },
   "source": [
    "#### **Realizando o treinamento.**"
   ]
  },
  {
   "cell_type": "code",
   "execution_count": null,
   "id": "irA9BS-13Vhw",
   "metadata": {
    "colab": {
     "base_uri": "https://localhost:8080/"
    },
    "executionInfo": {
     "elapsed": 1564,
     "status": "ok",
     "timestamp": 1648232792243,
     "user": {
      "displayName": "Eduardo Moura",
      "photoUrl": "https://lh3.googleusercontent.com/a-/AOh14GjbRENwmFbXh90kjNincbnD6Wle8bbYiPn8ZTE2mQ=s64",
      "userId": "17583025802959502448"
     },
     "user_tz": 180
    },
    "id": "irA9BS-13Vhw",
    "outputId": "dd6fc873-ed00-400e-eb1a-8c7098002edf"
   },
   "outputs": [
    {
     "data": {
      "text/plain": [
       "LogisticRegression()"
      ]
     },
     "execution_count": 34,
     "metadata": {},
     "output_type": "execute_result"
    }
   ],
   "source": [
    "logis.fit(X_train, y_train)"
   ]
  },
  {
   "cell_type": "markdown",
   "id": "qM-i7eHl3sVa",
   "metadata": {
    "id": "qM-i7eHl3sVa"
   },
   "source": [
    "#### **Calculando as predições.**"
   ]
  },
  {
   "cell_type": "code",
   "execution_count": null,
   "id": "GRHA8iff3zMj",
   "metadata": {
    "id": "GRHA8iff3zMj"
   },
   "outputs": [],
   "source": [
    "y_predict = logis.predict(X_test)"
   ]
  },
  {
   "cell_type": "markdown",
   "id": "TkywLQbU324r",
   "metadata": {
    "id": "TkywLQbU324r"
   },
   "source": [
    "###**Avaliando o resultado.**"
   ]
  },
  {
   "cell_type": "code",
   "execution_count": null,
   "id": "ezoFGr4w38vw",
   "metadata": {
    "colab": {
     "base_uri": "https://localhost:8080/"
    },
    "executionInfo": {
     "elapsed": 23,
     "status": "ok",
     "timestamp": 1648232792248,
     "user": {
      "displayName": "Eduardo Moura",
      "photoUrl": "https://lh3.googleusercontent.com/a-/AOh14GjbRENwmFbXh90kjNincbnD6Wle8bbYiPn8ZTE2mQ=s64",
      "userId": "17583025802959502448"
     },
     "user_tz": 180
    },
    "id": "ezoFGr4w38vw",
    "outputId": "026cd447-ca24-4c33-c61f-8f14228616aa"
   },
   "outputs": [
    {
     "name": "stdout",
     "output_type": "stream",
     "text": [
      "Accuracy = 0.85\n"
     ]
    }
   ],
   "source": [
    "accuracy_result(y_test, y_predict)"
   ]
  },
  {
   "cell_type": "code",
   "execution_count": null,
   "id": "rT99jQEK4Fwg",
   "metadata": {
    "colab": {
     "base_uri": "https://localhost:8080/"
    },
    "executionInfo": {
     "elapsed": 449,
     "status": "ok",
     "timestamp": 1648232792681,
     "user": {
      "displayName": "Eduardo Moura",
      "photoUrl": "https://lh3.googleusercontent.com/a-/AOh14GjbRENwmFbXh90kjNincbnD6Wle8bbYiPn8ZTE2mQ=s64",
      "userId": "17583025802959502448"
     },
     "user_tz": 180
    },
    "id": "rT99jQEK4Fwg",
    "outputId": "ba1af770-8cf9-4dc0-9fda-be7a5d723e6a"
   },
   "outputs": [
    {
     "name": "stdout",
     "output_type": "stream",
     "text": [
      "\n",
      "Logistic Regression AUC = 0.5574793425016065\n",
      "\n",
      "              precision    recall  f1-score   support\n",
      "\n",
      "           0       0.86      0.98      0.91     42741\n",
      "           1       0.54      0.14      0.22      7995\n",
      "\n",
      "    accuracy                           0.85     50736\n",
      "   macro avg       0.70      0.56      0.57     50736\n",
      "weighted avg       0.81      0.85      0.80     50736\n",
      "\n"
     ]
    }
   ],
   "source": [
    "roc_classification_report_results(\"Logistic Regression\", y_test, y_predict)"
   ]
  },
  {
   "cell_type": "markdown",
   "id": "o24o7rRTD_QH",
   "metadata": {
    "id": "o24o7rRTD_QH"
   },
   "source": [
    "### **Modelo de Arvore de decisão.**"
   ]
  },
  {
   "cell_type": "markdown",
   "id": "EiHFnuqxEFrn",
   "metadata": {
    "id": "EiHFnuqxEFrn"
   },
   "source": [
    "#### **Instânciando o algoritmo.**"
   ]
  },
  {
   "cell_type": "code",
   "execution_count": null,
   "id": "_E5Ow_SGENBf",
   "metadata": {
    "id": "_E5Ow_SGENBf"
   },
   "outputs": [],
   "source": [
    "from sklearn.tree import DecisionTreeClassifier\n",
    "dtree = DecisionTreeClassifier()"
   ]
  },
  {
   "cell_type": "markdown",
   "id": "IyRWnWtXEbJt",
   "metadata": {
    "id": "IyRWnWtXEbJt"
   },
   "source": [
    "#### **Realizando o treinamento.**"
   ]
  },
  {
   "cell_type": "code",
   "execution_count": null,
   "id": "8muDZjAdEmYH",
   "metadata": {
    "id": "8muDZjAdEmYH"
   },
   "outputs": [],
   "source": [
    "dtree = dtree.fit(X_train,y_train)"
   ]
  },
  {
   "cell_type": "markdown",
   "id": "xBNGqziLEqU8",
   "metadata": {
    "id": "xBNGqziLEqU8"
   },
   "source": [
    "#### **Calculando as predições.**"
   ]
  },
  {
   "cell_type": "code",
   "execution_count": null,
   "id": "H_w_mdtoEuEw",
   "metadata": {
    "id": "H_w_mdtoEuEw"
   },
   "outputs": [],
   "source": [
    "y_predict = dtree.predict(X_test)"
   ]
  },
  {
   "cell_type": "markdown",
   "id": "3_hvqqelE5e-",
   "metadata": {
    "id": "3_hvqqelE5e-"
   },
   "source": [
    "#### **Avaliando o resultado.**"
   ]
  },
  {
   "cell_type": "code",
   "execution_count": null,
   "id": "lhmLAvOkE9dR",
   "metadata": {
    "colab": {
     "base_uri": "https://localhost:8080/"
    },
    "executionInfo": {
     "elapsed": 18,
     "status": "ok",
     "timestamp": 1648232793735,
     "user": {
      "displayName": "Eduardo Moura",
      "photoUrl": "https://lh3.googleusercontent.com/a-/AOh14GjbRENwmFbXh90kjNincbnD6Wle8bbYiPn8ZTE2mQ=s64",
      "userId": "17583025802959502448"
     },
     "user_tz": 180
    },
    "id": "lhmLAvOkE9dR",
    "outputId": "ee5d7d01-d372-4c70-80e5-a3567513874a"
   },
   "outputs": [
    {
     "name": "stdout",
     "output_type": "stream",
     "text": [
      "Accuracy = 0.83\n"
     ]
    }
   ],
   "source": [
    "accuracy_result(y_test, y_predict)"
   ]
  },
  {
   "cell_type": "code",
   "execution_count": null,
   "id": "cuUgRXbrFCPo",
   "metadata": {
    "colab": {
     "base_uri": "https://localhost:8080/"
    },
    "executionInfo": {
     "elapsed": 18,
     "status": "ok",
     "timestamp": 1648232793737,
     "user": {
      "displayName": "Eduardo Moura",
      "photoUrl": "https://lh3.googleusercontent.com/a-/AOh14GjbRENwmFbXh90kjNincbnD6Wle8bbYiPn8ZTE2mQ=s64",
      "userId": "17583025802959502448"
     },
     "user_tz": 180
    },
    "id": "cuUgRXbrFCPo",
    "outputId": "0caed8bd-21ff-4406-b70a-0550b12032a3"
   },
   "outputs": [
    {
     "name": "stdout",
     "output_type": "stream",
     "text": [
      "\n",
      "Decision Tree AUC = 0.5574839340566657\n",
      "\n",
      "              precision    recall  f1-score   support\n",
      "\n",
      "           0       0.86      0.96      0.91     42741\n",
      "           1       0.41      0.16      0.23      7995\n",
      "\n",
      "    accuracy                           0.83     50736\n",
      "   macro avg       0.64      0.56      0.57     50736\n",
      "weighted avg       0.79      0.83      0.80     50736\n",
      "\n"
     ]
    }
   ],
   "source": [
    "roc_classification_report_results(\"Decision Tree\", y_test, y_predict)"
   ]
  },
  {
   "cell_type": "markdown",
   "id": "LKhoMc8eFkVF",
   "metadata": {
    "id": "LKhoMc8eFkVF"
   },
   "source": [
    "### **Modelo de Arvore Aleatória (Random Forest)**"
   ]
  },
  {
   "cell_type": "markdown",
   "id": "iNxF5jF0FqLh",
   "metadata": {
    "id": "iNxF5jF0FqLh"
   },
   "source": [
    "###**Instânciando o algoritmo.**"
   ]
  },
  {
   "cell_type": "code",
   "execution_count": null,
   "id": "wcY4BlGSFvLj",
   "metadata": {
    "id": "wcY4BlGSFvLj"
   },
   "outputs": [],
   "source": [
    "from sklearn.ensemble import RandomForestClassifier"
   ]
  },
  {
   "cell_type": "code",
   "execution_count": null,
   "id": "CXo8ovw7Fyin",
   "metadata": {
    "id": "CXo8ovw7Fyin"
   },
   "outputs": [],
   "source": [
    "rf = RandomForestClassifier()"
   ]
  },
  {
   "cell_type": "markdown",
   "id": "aJYahMZbF2UU",
   "metadata": {
    "id": "aJYahMZbF2UU"
   },
   "source": [
    "#### **Realizando o treinamento.**"
   ]
  },
  {
   "cell_type": "code",
   "execution_count": null,
   "id": "kbUHFNdRF6ub",
   "metadata": {
    "id": "kbUHFNdRF6ub"
   },
   "outputs": [],
   "source": [
    "rf = rf.fit(X_train,y_train)"
   ]
  },
  {
   "cell_type": "markdown",
   "id": "20AHt_efGB9T",
   "metadata": {
    "id": "20AHt_efGB9T"
   },
   "source": [
    "###**Calculando as predições.**"
   ]
  },
  {
   "cell_type": "code",
   "execution_count": null,
   "id": "KT5OdrXTGHqY",
   "metadata": {
    "id": "KT5OdrXTGHqY"
   },
   "outputs": [],
   "source": [
    "y_predict = rf.predict(X_test)"
   ]
  },
  {
   "cell_type": "markdown",
   "id": "zJlVabZ6GLoE",
   "metadata": {
    "id": "zJlVabZ6GLoE"
   },
   "source": [
    "#### **Avaliando o resultado.**"
   ]
  },
  {
   "cell_type": "code",
   "execution_count": null,
   "id": "G01V93aiGPGy",
   "metadata": {
    "colab": {
     "base_uri": "https://localhost:8080/"
    },
    "executionInfo": {
     "elapsed": 51,
     "status": "ok",
     "timestamp": 1648232824928,
     "user": {
      "displayName": "Eduardo Moura",
      "photoUrl": "https://lh3.googleusercontent.com/a-/AOh14GjbRENwmFbXh90kjNincbnD6Wle8bbYiPn8ZTE2mQ=s64",
      "userId": "17583025802959502448"
     },
     "user_tz": 180
    },
    "id": "G01V93aiGPGy",
    "outputId": "933db878-149c-4baa-ebfd-573a26809cdb"
   },
   "outputs": [
    {
     "name": "stdout",
     "output_type": "stream",
     "text": [
      "Accuracy = 0.83\n"
     ]
    }
   ],
   "source": [
    "accuracy_result(y_test, y_predict)"
   ]
  },
  {
   "cell_type": "code",
   "execution_count": null,
   "id": "g9UBlopvGUG6",
   "metadata": {
    "colab": {
     "base_uri": "https://localhost:8080/"
    },
    "executionInfo": {
     "elapsed": 29,
     "status": "ok",
     "timestamp": 1648232824931,
     "user": {
      "displayName": "Eduardo Moura",
      "photoUrl": "https://lh3.googleusercontent.com/a-/AOh14GjbRENwmFbXh90kjNincbnD6Wle8bbYiPn8ZTE2mQ=s64",
      "userId": "17583025802959502448"
     },
     "user_tz": 180
    },
    "id": "g9UBlopvGUG6",
    "outputId": "91ab052f-839c-4474-fbea-b5d8711a3cba"
   },
   "outputs": [
    {
     "name": "stdout",
     "output_type": "stream",
     "text": [
      "\n",
      "Random Forest AUC = 0.5667396618569908\n",
      "\n",
      "              precision    recall  f1-score   support\n",
      "\n",
      "           0       0.86      0.95      0.91     42741\n",
      "           1       0.43      0.18      0.25      7995\n",
      "\n",
      "    accuracy                           0.83     50736\n",
      "   macro avg       0.64      0.57      0.58     50736\n",
      "weighted avg       0.79      0.83      0.80     50736\n",
      "\n"
     ]
    }
   ],
   "source": [
    "roc_classification_report_results(\"Random Forest\", y_test, y_predict)"
   ]
  },
  {
   "cell_type": "markdown",
   "id": "PiClOEhiGcb-",
   "metadata": {
    "id": "PiClOEhiGcb-"
   },
   "source": [
    "### **Pycaret**"
   ]
  },
  {
   "cell_type": "code",
   "execution_count": null,
   "id": "KyqTDZ2RGgHs",
   "metadata": {
    "colab": {
     "base_uri": "https://localhost:8080/"
    },
    "executionInfo": {
     "elapsed": 12456,
     "status": "ok",
     "timestamp": 1648232837367,
     "user": {
      "displayName": "Eduardo Moura",
      "photoUrl": "https://lh3.googleusercontent.com/a-/AOh14GjbRENwmFbXh90kjNincbnD6Wle8bbYiPn8ZTE2mQ=s64",
      "userId": "17583025802959502448"
     },
     "user_tz": 180
    },
    "id": "KyqTDZ2RGgHs",
    "outputId": "51cae522-325d-4b72-a6cd-bdf9720d38b9"
   },
   "outputs": [
    {
     "name": "stdout",
     "output_type": "stream",
     "text": [
      "Requirement already satisfied: pycaret in /usr/local/lib/python3.7/dist-packages (2.3.8)\n",
      "Requirement already satisfied: numba<0.55 in /usr/local/lib/python3.7/dist-packages (from pycaret) (0.51.2)\n",
      "Requirement already satisfied: matplotlib in /usr/local/lib/python3.7/dist-packages (from pycaret) (3.5.1)\n",
      "Requirement already satisfied: scikit-plot in /usr/local/lib/python3.7/dist-packages (from pycaret) (0.3.7)\n",
      "Requirement already satisfied: umap-learn in /usr/local/lib/python3.7/dist-packages (from pycaret) (0.5.2)\n",
      "Requirement already satisfied: wordcloud in /usr/local/lib/python3.7/dist-packages (from pycaret) (1.5.0)\n",
      "Requirement already satisfied: nltk in /usr/local/lib/python3.7/dist-packages (from pycaret) (3.2.5)\n",
      "Requirement already satisfied: ipywidgets in /usr/local/lib/python3.7/dist-packages (from pycaret) (7.7.0)\n",
      "Requirement already satisfied: plotly>=4.4.1 in /usr/local/lib/python3.7/dist-packages (from pycaret) (5.5.0)\n",
      "Requirement already satisfied: scikit-learn==0.23.2 in /usr/local/lib/python3.7/dist-packages (from pycaret) (0.23.2)\n",
      "Requirement already satisfied: kmodes>=0.10.1 in /usr/local/lib/python3.7/dist-packages (from pycaret) (0.11.1)\n",
      "Requirement already satisfied: pandas in /usr/local/lib/python3.7/dist-packages (from pycaret) (1.3.5)\n",
      "Requirement already satisfied: mlxtend>=0.17.0 in /usr/local/lib/python3.7/dist-packages (from pycaret) (0.19.0)\n",
      "Requirement already satisfied: pyod in /usr/local/lib/python3.7/dist-packages (from pycaret) (0.9.8)\n",
      "Requirement already satisfied: seaborn in /usr/local/lib/python3.7/dist-packages (from pycaret) (0.11.2)\n",
      "Requirement already satisfied: pyLDAvis in /usr/local/lib/python3.7/dist-packages (from pycaret) (3.2.2)\n",
      "Requirement already satisfied: cufflinks>=0.17.0 in /usr/local/lib/python3.7/dist-packages (from pycaret) (0.17.3)\n",
      "Requirement already satisfied: mlflow in /usr/local/lib/python3.7/dist-packages (from pycaret) (1.24.0)\n",
      "Requirement already satisfied: joblib in /usr/local/lib/python3.7/dist-packages (from pycaret) (1.0.1)\n",
      "Requirement already satisfied: Boruta in /usr/local/lib/python3.7/dist-packages (from pycaret) (0.3)\n",
      "Requirement already satisfied: scipy<=1.5.4 in /usr/local/lib/python3.7/dist-packages (from pycaret) (1.5.4)\n",
      "Requirement already satisfied: textblob in /usr/local/lib/python3.7/dist-packages (from pycaret) (0.15.3)\n",
      "Requirement already satisfied: imbalanced-learn==0.7.0 in /usr/local/lib/python3.7/dist-packages (from pycaret) (0.7.0)\n",
      "Requirement already satisfied: lightgbm>=2.3.1 in /usr/local/lib/python3.7/dist-packages (from pycaret) (3.3.2)\n",
      "Requirement already satisfied: pyyaml<6.0.0 in /usr/local/lib/python3.7/dist-packages (from pycaret) (5.4.1)\n",
      "Requirement already satisfied: gensim<4.0.0 in /usr/local/lib/python3.7/dist-packages (from pycaret) (3.6.0)\n",
      "Requirement already satisfied: yellowbrick>=1.0.1 in /usr/local/lib/python3.7/dist-packages (from pycaret) (1.3.post1)\n",
      "Requirement already satisfied: IPython in /usr/local/lib/python3.7/dist-packages (from pycaret) (7.32.0)\n",
      "Requirement already satisfied: pandas-profiling>=2.8.0 in /usr/local/lib/python3.7/dist-packages (from pycaret) (3.1.0)\n",
      "Requirement already satisfied: spacy<2.4.0 in /usr/local/lib/python3.7/dist-packages (from pycaret) (2.2.4)\n",
      "Requirement already satisfied: numpy>=1.13.3 in /usr/local/lib/python3.7/dist-packages (from imbalanced-learn==0.7.0->pycaret) (1.19.5)\n",
      "Requirement already satisfied: threadpoolctl>=2.0.0 in /usr/local/lib/python3.7/dist-packages (from scikit-learn==0.23.2->pycaret) (3.1.0)\n",
      "Requirement already satisfied: six>=1.9.0 in /usr/local/lib/python3.7/dist-packages (from cufflinks>=0.17.0->pycaret) (1.15.0)\n",
      "Requirement already satisfied: colorlover>=0.2.1 in /usr/local/lib/python3.7/dist-packages (from cufflinks>=0.17.0->pycaret) (0.3.0)\n",
      "Requirement already satisfied: setuptools>=34.4.1 in /usr/local/lib/python3.7/dist-packages (from cufflinks>=0.17.0->pycaret) (57.4.0)\n",
      "Requirement already satisfied: smart-open>=1.2.1 in /usr/local/lib/python3.7/dist-packages (from gensim<4.0.0->pycaret) (5.2.1)\n",
      "Requirement already satisfied: decorator in /usr/local/lib/python3.7/dist-packages (from IPython->pycaret) (4.4.2)\n",
      "Requirement already satisfied: jedi>=0.16 in /usr/local/lib/python3.7/dist-packages (from IPython->pycaret) (0.18.1)\n",
      "Requirement already satisfied: prompt-toolkit!=3.0.0,!=3.0.1,<3.1.0,>=2.0.0 in /usr/local/lib/python3.7/dist-packages (from IPython->pycaret) (3.0.28)\n",
      "Requirement already satisfied: pygments in /usr/local/lib/python3.7/dist-packages (from IPython->pycaret) (2.6.1)\n",
      "Requirement already satisfied: pexpect>4.3 in /usr/local/lib/python3.7/dist-packages (from IPython->pycaret) (4.8.0)\n",
      "Requirement already satisfied: matplotlib-inline in /usr/local/lib/python3.7/dist-packages (from IPython->pycaret) (0.1.3)\n",
      "Requirement already satisfied: backcall in /usr/local/lib/python3.7/dist-packages (from IPython->pycaret) (0.2.0)\n",
      "Requirement already satisfied: pickleshare in /usr/local/lib/python3.7/dist-packages (from IPython->pycaret) (0.7.5)\n",
      "Requirement already satisfied: traitlets>=4.2 in /usr/local/lib/python3.7/dist-packages (from IPython->pycaret) (5.1.1)\n",
      "Requirement already satisfied: ipython-genutils~=0.2.0 in /usr/local/lib/python3.7/dist-packages (from ipywidgets->pycaret) (0.2.0)\n",
      "Requirement already satisfied: widgetsnbextension~=3.6.0 in /usr/local/lib/python3.7/dist-packages (from ipywidgets->pycaret) (3.6.0)\n",
      "Requirement already satisfied: ipykernel>=4.5.1 in /usr/local/lib/python3.7/dist-packages (from ipywidgets->pycaret) (6.9.2)\n",
      "Requirement already satisfied: jupyterlab-widgets>=1.0.0 in /usr/local/lib/python3.7/dist-packages (from ipywidgets->pycaret) (1.1.0)\n",
      "Requirement already satisfied: nbformat>=4.2.0 in /usr/local/lib/python3.7/dist-packages (from ipywidgets->pycaret) (5.2.0)\n",
      "Requirement already satisfied: nest-asyncio in /usr/local/lib/python3.7/dist-packages (from ipykernel>=4.5.1->ipywidgets->pycaret) (1.5.4)\n",
      "Requirement already satisfied: jupyter-client<8.0 in /usr/local/lib/python3.7/dist-packages (from ipykernel>=4.5.1->ipywidgets->pycaret) (7.1.2)\n",
      "Requirement already satisfied: psutil in /usr/local/lib/python3.7/dist-packages (from ipykernel>=4.5.1->ipywidgets->pycaret) (5.9.0)\n",
      "Requirement already satisfied: debugpy<2.0,>=1.0.0 in /usr/local/lib/python3.7/dist-packages (from ipykernel>=4.5.1->ipywidgets->pycaret) (1.0.0)\n",
      "Requirement already satisfied: tornado<7.0,>=4.2 in /usr/local/lib/python3.7/dist-packages (from ipykernel>=4.5.1->ipywidgets->pycaret) (5.1.1)\n",
      "Requirement already satisfied: parso<0.9.0,>=0.8.0 in /usr/local/lib/python3.7/dist-packages (from jedi>=0.16->IPython->pycaret) (0.8.3)\n",
      "Requirement already satisfied: entrypoints in /usr/local/lib/python3.7/dist-packages (from jupyter-client<8.0->ipykernel>=4.5.1->ipywidgets->pycaret) (0.4)\n",
      "Requirement already satisfied: pyzmq>=13 in /usr/local/lib/python3.7/dist-packages (from jupyter-client<8.0->ipykernel>=4.5.1->ipywidgets->pycaret) (22.3.0)\n",
      "Requirement already satisfied: python-dateutil>=2.1 in /usr/local/lib/python3.7/dist-packages (from jupyter-client<8.0->ipykernel>=4.5.1->ipywidgets->pycaret) (2.8.2)\n",
      "Requirement already satisfied: jupyter-core>=4.6.0 in /usr/local/lib/python3.7/dist-packages (from jupyter-client<8.0->ipykernel>=4.5.1->ipywidgets->pycaret) (4.9.2)\n",
      "Requirement already satisfied: wheel in /usr/local/lib/python3.7/dist-packages (from lightgbm>=2.3.1->pycaret) (0.37.1)\n",
      "Requirement already satisfied: kiwisolver>=1.0.1 in /usr/local/lib/python3.7/dist-packages (from matplotlib->pycaret) (1.4.0)\n",
      "Requirement already satisfied: cycler>=0.10 in /usr/local/lib/python3.7/dist-packages (from matplotlib->pycaret) (0.11.0)\n",
      "Requirement already satisfied: pillow>=6.2.0 in /usr/local/lib/python3.7/dist-packages (from matplotlib->pycaret) (7.1.2)\n",
      "Requirement already satisfied: packaging>=20.0 in /usr/local/lib/python3.7/dist-packages (from matplotlib->pycaret) (21.3)\n",
      "Requirement already satisfied: pyparsing>=2.2.1 in /usr/local/lib/python3.7/dist-packages (from matplotlib->pycaret) (3.0.7)\n",
      "Requirement already satisfied: fonttools>=4.22.0 in /usr/local/lib/python3.7/dist-packages (from matplotlib->pycaret) (4.31.2)\n",
      "Requirement already satisfied: typing-extensions in /usr/local/lib/python3.7/dist-packages (from kiwisolver>=1.0.1->matplotlib->pycaret) (4.1.1)\n",
      "Requirement already satisfied: jsonschema!=2.5.0,>=2.4 in /usr/local/lib/python3.7/dist-packages (from nbformat>=4.2.0->ipywidgets->pycaret) (4.3.3)\n",
      "Requirement already satisfied: pyrsistent!=0.17.0,!=0.17.1,!=0.17.2,>=0.14.0 in /usr/local/lib/python3.7/dist-packages (from jsonschema!=2.5.0,>=2.4->nbformat>=4.2.0->ipywidgets->pycaret) (0.18.1)\n",
      "Requirement already satisfied: importlib-metadata in /usr/local/lib/python3.7/dist-packages (from jsonschema!=2.5.0,>=2.4->nbformat>=4.2.0->ipywidgets->pycaret) (4.11.3)\n",
      "Requirement already satisfied: attrs>=17.4.0 in /usr/local/lib/python3.7/dist-packages (from jsonschema!=2.5.0,>=2.4->nbformat>=4.2.0->ipywidgets->pycaret) (21.4.0)\n",
      "Requirement already satisfied: importlib-resources>=1.4.0 in /usr/local/lib/python3.7/dist-packages (from jsonschema!=2.5.0,>=2.4->nbformat>=4.2.0->ipywidgets->pycaret) (5.4.0)\n",
      "Requirement already satisfied: zipp>=3.1.0 in /usr/local/lib/python3.7/dist-packages (from importlib-resources>=1.4.0->jsonschema!=2.5.0,>=2.4->nbformat>=4.2.0->ipywidgets->pycaret) (3.7.0)\n",
      "Requirement already satisfied: llvmlite<0.35,>=0.34.0.dev0 in /usr/local/lib/python3.7/dist-packages (from numba<0.55->pycaret) (0.34.0)\n",
      "Requirement already satisfied: pytz>=2017.3 in /usr/local/lib/python3.7/dist-packages (from pandas->pycaret) (2018.9)\n",
      "Requirement already satisfied: multimethod>=1.4 in /usr/local/lib/python3.7/dist-packages (from pandas-profiling>=2.8.0->pycaret) (1.7)\n",
      "Requirement already satisfied: requests>=2.24.0 in /usr/local/lib/python3.7/dist-packages (from pandas-profiling>=2.8.0->pycaret) (2.27.1)\n",
      "Requirement already satisfied: tqdm>=4.48.2 in /usr/local/lib/python3.7/dist-packages (from pandas-profiling>=2.8.0->pycaret) (4.63.0)\n",
      "Requirement already satisfied: missingno>=0.4.2 in /usr/local/lib/python3.7/dist-packages (from pandas-profiling>=2.8.0->pycaret) (0.5.1)\n",
      "Requirement already satisfied: phik>=0.11.1 in /usr/local/lib/python3.7/dist-packages (from pandas-profiling>=2.8.0->pycaret) (0.12.2)\n",
      "Requirement already satisfied: jinja2>=2.11.1 in /usr/local/lib/python3.7/dist-packages (from pandas-profiling>=2.8.0->pycaret) (2.11.3)\n",
      "Requirement already satisfied: htmlmin>=0.1.12 in /usr/local/lib/python3.7/dist-packages (from pandas-profiling>=2.8.0->pycaret) (0.1.12)\n",
      "Requirement already satisfied: tangled-up-in-unicode==0.1.0 in /usr/local/lib/python3.7/dist-packages (from pandas-profiling>=2.8.0->pycaret) (0.1.0)\n",
      "Requirement already satisfied: markupsafe~=2.0.1 in /usr/local/lib/python3.7/dist-packages (from pandas-profiling>=2.8.0->pycaret) (2.0.1)\n",
      "Requirement already satisfied: pydantic>=1.8.1 in /usr/local/lib/python3.7/dist-packages (from pandas-profiling>=2.8.0->pycaret) (1.9.0)\n",
      "Requirement already satisfied: visions[type_image_path]==0.7.4 in /usr/local/lib/python3.7/dist-packages (from pandas-profiling>=2.8.0->pycaret) (0.7.4)\n",
      "Requirement already satisfied: networkx>=2.4 in /usr/local/lib/python3.7/dist-packages (from visions[type_image_path]==0.7.4->pandas-profiling>=2.8.0->pycaret) (2.6.3)\n",
      "Requirement already satisfied: imagehash in /usr/local/lib/python3.7/dist-packages (from visions[type_image_path]==0.7.4->pandas-profiling>=2.8.0->pycaret) (4.2.1)\n",
      "Requirement already satisfied: ptyprocess>=0.5 in /usr/local/lib/python3.7/dist-packages (from pexpect>4.3->IPython->pycaret) (0.7.0)\n",
      "Requirement already satisfied: tenacity>=6.2.0 in /usr/local/lib/python3.7/dist-packages (from plotly>=4.4.1->pycaret) (8.0.1)\n",
      "Requirement already satisfied: wcwidth in /usr/local/lib/python3.7/dist-packages (from prompt-toolkit!=3.0.0,!=3.0.1,<3.1.0,>=2.0.0->IPython->pycaret) (0.2.5)\n",
      "Requirement already satisfied: certifi>=2017.4.17 in /usr/local/lib/python3.7/dist-packages (from requests>=2.24.0->pandas-profiling>=2.8.0->pycaret) (2021.10.8)\n",
      "Requirement already satisfied: urllib3<1.27,>=1.21.1 in /usr/local/lib/python3.7/dist-packages (from requests>=2.24.0->pandas-profiling>=2.8.0->pycaret) (1.26.9)\n",
      "Requirement already satisfied: idna<4,>=2.5 in /usr/local/lib/python3.7/dist-packages (from requests>=2.24.0->pandas-profiling>=2.8.0->pycaret) (2.10)\n",
      "Requirement already satisfied: charset-normalizer~=2.0.0 in /usr/local/lib/python3.7/dist-packages (from requests>=2.24.0->pandas-profiling>=2.8.0->pycaret) (2.0.12)\n",
      "Requirement already satisfied: blis<0.5.0,>=0.4.0 in /usr/local/lib/python3.7/dist-packages (from spacy<2.4.0->pycaret) (0.4.1)\n",
      "Requirement already satisfied: thinc==7.4.0 in /usr/local/lib/python3.7/dist-packages (from spacy<2.4.0->pycaret) (7.4.0)\n",
      "Requirement already satisfied: wasabi<1.1.0,>=0.4.0 in /usr/local/lib/python3.7/dist-packages (from spacy<2.4.0->pycaret) (0.9.0)\n",
      "Requirement already satisfied: plac<1.2.0,>=0.9.6 in /usr/local/lib/python3.7/dist-packages (from spacy<2.4.0->pycaret) (1.1.3)\n",
      "Requirement already satisfied: catalogue<1.1.0,>=0.0.7 in /usr/local/lib/python3.7/dist-packages (from spacy<2.4.0->pycaret) (1.0.0)\n",
      "Requirement already satisfied: srsly<1.1.0,>=1.0.2 in /usr/local/lib/python3.7/dist-packages (from spacy<2.4.0->pycaret) (1.0.5)\n",
      "Requirement already satisfied: cymem<2.1.0,>=2.0.2 in /usr/local/lib/python3.7/dist-packages (from spacy<2.4.0->pycaret) (2.0.6)\n",
      "Requirement already satisfied: murmurhash<1.1.0,>=0.28.0 in /usr/local/lib/python3.7/dist-packages (from spacy<2.4.0->pycaret) (1.0.6)\n",
      "Requirement already satisfied: preshed<3.1.0,>=3.0.2 in /usr/local/lib/python3.7/dist-packages (from spacy<2.4.0->pycaret) (3.0.6)\n",
      "Requirement already satisfied: notebook>=4.4.1 in /usr/local/lib/python3.7/dist-packages (from widgetsnbextension~=3.6.0->ipywidgets->pycaret) (5.3.1)\n",
      "Requirement already satisfied: nbconvert in /usr/local/lib/python3.7/dist-packages (from notebook>=4.4.1->widgetsnbextension~=3.6.0->ipywidgets->pycaret) (5.6.1)\n",
      "Requirement already satisfied: terminado>=0.8.1 in /usr/local/lib/python3.7/dist-packages (from notebook>=4.4.1->widgetsnbextension~=3.6.0->ipywidgets->pycaret) (0.13.3)\n",
      "Requirement already satisfied: Send2Trash in /usr/local/lib/python3.7/dist-packages (from notebook>=4.4.1->widgetsnbextension~=3.6.0->ipywidgets->pycaret) (1.8.0)\n",
      "Requirement already satisfied: PyWavelets in /usr/local/lib/python3.7/dist-packages (from imagehash->visions[type_image_path]==0.7.4->pandas-profiling>=2.8.0->pycaret) (1.3.0)\n",
      "Requirement already satisfied: alembic in /usr/local/lib/python3.7/dist-packages (from mlflow->pycaret) (1.7.7)\n",
      "Requirement already satisfied: querystring-parser in /usr/local/lib/python3.7/dist-packages (from mlflow->pycaret) (1.2.4)\n",
      "Requirement already satisfied: sqlalchemy in /usr/local/lib/python3.7/dist-packages (from mlflow->pycaret) (1.4.32)\n",
      "Requirement already satisfied: click>=7.0 in /usr/local/lib/python3.7/dist-packages (from mlflow->pycaret) (7.1.2)\n",
      "Requirement already satisfied: prometheus-flask-exporter in /usr/local/lib/python3.7/dist-packages (from mlflow->pycaret) (0.19.0)\n",
      "Requirement already satisfied: Flask in /usr/local/lib/python3.7/dist-packages (from mlflow->pycaret) (1.1.4)\n",
      "Requirement already satisfied: databricks-cli>=0.8.7 in /usr/local/lib/python3.7/dist-packages (from mlflow->pycaret) (0.16.4)\n",
      "Requirement already satisfied: docker>=4.0.0 in /usr/local/lib/python3.7/dist-packages (from mlflow->pycaret) (5.0.3)\n",
      "Requirement already satisfied: gunicorn in /usr/local/lib/python3.7/dist-packages (from mlflow->pycaret) (20.1.0)\n",
      "Requirement already satisfied: protobuf>=3.7.0 in /usr/local/lib/python3.7/dist-packages (from mlflow->pycaret) (3.17.3)\n",
      "Requirement already satisfied: cloudpickle in /usr/local/lib/python3.7/dist-packages (from mlflow->pycaret) (1.3.0)\n",
      "Requirement already satisfied: gitpython>=2.1.0 in /usr/local/lib/python3.7/dist-packages (from mlflow->pycaret) (3.1.27)\n",
      "Requirement already satisfied: sqlparse>=0.3.1 in /usr/local/lib/python3.7/dist-packages (from mlflow->pycaret) (0.4.2)\n",
      "Requirement already satisfied: tabulate>=0.7.7 in /usr/local/lib/python3.7/dist-packages (from databricks-cli>=0.8.7->mlflow->pycaret) (0.8.9)\n",
      "Requirement already satisfied: websocket-client>=0.32.0 in /usr/local/lib/python3.7/dist-packages (from docker>=4.0.0->mlflow->pycaret) (1.3.1)\n",
      "Requirement already satisfied: gitdb<5,>=4.0.1 in /usr/local/lib/python3.7/dist-packages (from gitpython>=2.1.0->mlflow->pycaret) (4.0.9)\n",
      "Requirement already satisfied: smmap<6,>=3.0.1 in /usr/local/lib/python3.7/dist-packages (from gitdb<5,>=4.0.1->gitpython>=2.1.0->mlflow->pycaret) (5.0.0)\n",
      "Requirement already satisfied: Mako in /usr/local/lib/python3.7/dist-packages (from alembic->mlflow->pycaret) (1.2.0)\n",
      "Requirement already satisfied: greenlet!=0.4.17 in /usr/local/lib/python3.7/dist-packages (from sqlalchemy->mlflow->pycaret) (1.1.2)\n",
      "Requirement already satisfied: itsdangerous<2.0,>=0.24 in /usr/local/lib/python3.7/dist-packages (from Flask->mlflow->pycaret) (1.1.0)\n",
      "Requirement already satisfied: Werkzeug<2.0,>=0.15 in /usr/local/lib/python3.7/dist-packages (from Flask->mlflow->pycaret) (1.0.1)\n",
      "Requirement already satisfied: mistune<2,>=0.8.1 in /usr/local/lib/python3.7/dist-packages (from nbconvert->notebook>=4.4.1->widgetsnbextension~=3.6.0->ipywidgets->pycaret) (0.8.4)\n",
      "Requirement already satisfied: defusedxml in /usr/local/lib/python3.7/dist-packages (from nbconvert->notebook>=4.4.1->widgetsnbextension~=3.6.0->ipywidgets->pycaret) (0.7.1)\n",
      "Requirement already satisfied: pandocfilters>=1.4.1 in /usr/local/lib/python3.7/dist-packages (from nbconvert->notebook>=4.4.1->widgetsnbextension~=3.6.0->ipywidgets->pycaret) (1.5.0)\n",
      "Requirement already satisfied: testpath in /usr/local/lib/python3.7/dist-packages (from nbconvert->notebook>=4.4.1->widgetsnbextension~=3.6.0->ipywidgets->pycaret) (0.6.0)\n",
      "Requirement already satisfied: bleach in /usr/local/lib/python3.7/dist-packages (from nbconvert->notebook>=4.4.1->widgetsnbextension~=3.6.0->ipywidgets->pycaret) (4.1.0)\n",
      "Requirement already satisfied: webencodings in /usr/local/lib/python3.7/dist-packages (from bleach->nbconvert->notebook>=4.4.1->widgetsnbextension~=3.6.0->ipywidgets->pycaret) (0.5.1)\n",
      "Requirement already satisfied: prometheus-client in /usr/local/lib/python3.7/dist-packages (from prometheus-flask-exporter->mlflow->pycaret) (0.13.1)\n",
      "Requirement already satisfied: numexpr in /usr/local/lib/python3.7/dist-packages (from pyLDAvis->pycaret) (2.8.1)\n",
      "Requirement already satisfied: funcy in /usr/local/lib/python3.7/dist-packages (from pyLDAvis->pycaret) (1.17)\n",
      "Requirement already satisfied: future in /usr/local/lib/python3.7/dist-packages (from pyLDAvis->pycaret) (0.16.0)\n",
      "Requirement already satisfied: statsmodels in /usr/local/lib/python3.7/dist-packages (from pyod->pycaret) (0.13.2)\n",
      "Requirement already satisfied: patsy>=0.5.2 in /usr/local/lib/python3.7/dist-packages (from statsmodels->pyod->pycaret) (0.5.2)\n",
      "Requirement already satisfied: pynndescent>=0.5 in /usr/local/lib/python3.7/dist-packages (from umap-learn->pycaret) (0.5.6)\n"
     ]
    }
   ],
   "source": [
    "!pip install pycaret"
   ]
  },
  {
   "cell_type": "code",
   "execution_count": null,
   "id": "aA6laRiJTObe",
   "metadata": {
    "id": "aA6laRiJTObe"
   },
   "outputs": [],
   "source": [
    "# !pip install scikit-learn== 0.23.2"
   ]
  },
  {
   "cell_type": "markdown",
   "id": "LQyDIBr4G9T9",
   "metadata": {
    "id": "LQyDIBr4G9T9"
   },
   "source": [
    "#### **Importando os métodos.**"
   ]
  },
  {
   "cell_type": "code",
   "execution_count": null,
   "id": "tTXk5diyHBbc",
   "metadata": {
    "id": "tTXk5diyHBbc"
   },
   "outputs": [],
   "source": [
    "from pycaret.classification import *"
   ]
  },
  {
   "cell_type": "markdown",
   "id": "snQZ1fMLHQ_q",
   "metadata": {
    "id": "snQZ1fMLHQ_q"
   },
   "source": [
    "#### **Definindo o Setup.**"
   ]
  },
  {
   "cell_type": "code",
   "execution_count": null,
   "id": "_dTLgLwmHVRc",
   "metadata": {
    "id": "_dTLgLwmHVRc"
   },
   "outputs": [],
   "source": [
    "s = setup( my_df[[\"IMC\",\"saude_fisica\",\"pressao_alta\",\"auto_aval_saude\",\"consome_frutas\",\"ativ_fisica\",\"fumante\",\"consome_vegetais\",\"diabetes\"]]\n",
    "          ,target = \"diabetes\"\n",
    "          ,numeric_features = [\"pressao_alta\"]\n",
    "          ,normalize = True\n",
    "          ,normalize_method = \"minmax\"\n",
    "          ,data_split_stratify = True\n",
    "          ,fix_imbalance = True,\n",
    "         )"
   ]
  },
  {
   "cell_type": "markdown",
   "id": "BtdHEWXUjOGJ",
   "metadata": {
    "id": "BtdHEWXUjOGJ"
   },
   "source": [
    "#### **Comparando diferentes modelos.**"
   ]
  },
  {
   "cell_type": "code",
   "execution_count": null,
   "id": "TptzTX-1jR_Z",
   "metadata": {
    "colab": {
     "base_uri": "https://localhost:8080/",
     "height": 328
    },
    "executionInfo": {
     "elapsed": 255,
     "status": "error",
     "timestamp": 1648236554545,
     "user": {
      "displayName": "Eduardo Moura",
      "photoUrl": "https://lh3.googleusercontent.com/a-/AOh14GjbRENwmFbXh90kjNincbnD6Wle8bbYiPn8ZTE2mQ=s64",
      "userId": "17583025802959502448"
     },
     "user_tz": 180
    },
    "id": "TptzTX-1jR_Z",
    "outputId": "98eae1e6-50c5-47cb-a2ac-87b104ec8669"
   },
   "outputs": [
    {
     "ename": "NameError",
     "evalue": "ignored",
     "output_type": "error",
     "traceback": [
      "\u001b[0;31m---------------------------------------------------------------------------\u001b[0m",
      "\u001b[0;31mNameError\u001b[0m                                 Traceback (most recent call last)",
      "\u001b[0;32m/tmp/ipykernel_2492/2993295434.py\u001b[0m in \u001b[0;36m<module>\u001b[0;34m\u001b[0m\n\u001b[0;32m----> 1\u001b[0;31m \u001b[0mbest\u001b[0m \u001b[0;34m=\u001b[0m \u001b[0mcompare_models\u001b[0m\u001b[0;34m(\u001b[0m\u001b[0mfold\u001b[0m \u001b[0;34m=\u001b[0m \u001b[0;36m5\u001b[0m\u001b[0;34m,\u001b[0m\u001b[0msort\u001b[0m \u001b[0;34m=\u001b[0m \u001b[0;34m'AUC'\u001b[0m\u001b[0;34m)\u001b[0m\u001b[0;34m\u001b[0m\u001b[0;34m\u001b[0m\u001b[0m\n\u001b[0m",
      "\u001b[0;32m/usr/local/lib/python3.7/dist-packages/pycaret/classification.py\u001b[0m in \u001b[0;36mcompare_models\u001b[0;34m(include, exclude, fold, round, cross_validation, sort, n_select, budget_time, turbo, errors, fit_kwargs, groups, experiment_custom_tags, probability_threshold, verbose, display, parallel)\u001b[0m\n\u001b[1;32m    834\u001b[0m         \u001b[0mprobability_threshold\u001b[0m\u001b[0;34m=\u001b[0m\u001b[0mprobability_threshold\u001b[0m\u001b[0;34m,\u001b[0m\u001b[0;34m\u001b[0m\u001b[0;34m\u001b[0m\u001b[0m\n\u001b[1;32m    835\u001b[0m         \u001b[0mverbose\u001b[0m\u001b[0;34m=\u001b[0m\u001b[0mverbose\u001b[0m\u001b[0;34m,\u001b[0m\u001b[0;34m\u001b[0m\u001b[0;34m\u001b[0m\u001b[0m\n\u001b[0;32m--> 836\u001b[0;31m         \u001b[0mdisplay\u001b[0m\u001b[0;34m=\u001b[0m\u001b[0mdisplay\u001b[0m\u001b[0;34m,\u001b[0m\u001b[0;34m\u001b[0m\u001b[0;34m\u001b[0m\u001b[0m\n\u001b[0m\u001b[1;32m    837\u001b[0m     )\n\u001b[1;32m    838\u001b[0m \u001b[0;34m\u001b[0m\u001b[0m\n",
      "\u001b[0;32m/usr/local/lib/python3.7/dist-packages/pycaret/internal/tabular.py\u001b[0m in \u001b[0;36mcompare_models\u001b[0;34m(include, exclude, fold, round, cross_validation, sort, n_select, budget_time, turbo, errors, fit_kwargs, groups, experiment_custom_tags, probability_threshold, verbose, display)\u001b[0m\n\u001b[1;32m   1935\u001b[0m \u001b[0;34m\u001b[0m\u001b[0m\n\u001b[1;32m   1936\u001b[0m     \u001b[0;31m# checking error for exclude (string)\u001b[0m\u001b[0;34m\u001b[0m\u001b[0;34m\u001b[0m\u001b[0;34m\u001b[0m\u001b[0m\n\u001b[0;32m-> 1937\u001b[0;31m     \u001b[0mavailable_estimators\u001b[0m \u001b[0;34m=\u001b[0m \u001b[0m_all_models\u001b[0m\u001b[0;34m\u001b[0m\u001b[0;34m\u001b[0m\u001b[0m\n\u001b[0m\u001b[1;32m   1938\u001b[0m \u001b[0;34m\u001b[0m\u001b[0m\n\u001b[1;32m   1939\u001b[0m     \u001b[0;32mif\u001b[0m \u001b[0mexclude\u001b[0m \u001b[0;34m!=\u001b[0m \u001b[0;32mNone\u001b[0m\u001b[0;34m:\u001b[0m\u001b[0;34m\u001b[0m\u001b[0;34m\u001b[0m\u001b[0m\n",
      "\u001b[0;31mNameError\u001b[0m: name '_all_models' is not defined"
     ]
    }
   ],
   "source": [
    "best = compare_models(fold = 5,sort = 'AUC')"
   ]
  }
 ],
 "metadata": {
  "colab": {
   "collapsed_sections": [],
   "name": "Modelagem.ipynb",
   "provenance": []
  },
  "kernelspec": {
   "display_name": "Python 3 (ipykernel)",
   "language": "python",
   "name": "python3"
  },
  "language_info": {
   "codemirror_mode": {
    "name": "ipython",
    "version": 3
   },
   "file_extension": ".py",
   "mimetype": "text/x-python",
   "name": "python",
   "nbconvert_exporter": "python",
   "pygments_lexer": "ipython3",
   "version": "3.9.7"
  }
 },
 "nbformat": 4,
 "nbformat_minor": 5
}
